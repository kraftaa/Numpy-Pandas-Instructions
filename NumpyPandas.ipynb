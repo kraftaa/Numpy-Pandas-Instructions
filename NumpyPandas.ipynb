{
  "nbformat": 4,
  "nbformat_minor": 0,
  "metadata": {
    "colab": {
      "name": "Hello, Colaboratory",
      "version": "0.3.2",
      "views": {},
      "default_view": {},
      "provenance": [],
      "collapsed_sections": [],
      "toc_visible": true
    },
    "kernelspec": {
      "display_name": "Python 3",
      "name": "python3"
    }
  },
  "cells": [
    {
      "metadata": {
        "id": "WCn2gTjupzgU",
        "colab_type": "text"
      },
      "cell_type": "markdown",
      "source": [
        "**Table of Contents**\n",
        "\n",
        "- 6 Important things you should know about Numpy and Pandas\n",
        "- Starting with Numpy\n",
        "- Starting with Pandas"
      ]
    },
    {
      "metadata": {
        "id": "aqEmfR9Ep7QH",
        "colab_type": "text"
      },
      "cell_type": "markdown",
      "source": [
        "**6 Important things you should know about Numpy and Pandas**\n",
        "- The data manipulation capabilities of pandas are built on top of the numpy library. In a way, numpy is a dependency of the pandas library.\n",
        "- Pandas is best at handling tabular data sets comprising different variable types (integer, float, double, etc.). In addition, the pandas library can also be used to perform even the most naive of tasks such as loading data or doing feature engineering on time series data.\n",
        "- Numpy is most suitable for performing basic numerical computations such as mean, median, range, etc. Alongside, it also supports the creation of multi-dimensional arrays.\n",
        "- Numpy library can also be used to integrate C/C++ and Fortran code.\n",
        "- Remember, python is a zero indexing language unlike R where indexing starts at one.\n",
        "- The best part of learning pandas and numpy is the strong active community support you'll get from around the world.\n",
        "- Just to give you a flavor of the numpy library, we'll quickly go through its syntax structures and some important commands such as slicing, indexing, concatenation, etc. All these commands will come in handy when using pandas as well. Let's get started!\n"
      ]
    },
    {
      "metadata": {
        "id": "TuhgcPxMsx-0",
        "colab_type": "text"
      },
      "cell_type": "markdown",
      "source": [
        "# Starting with Numpy"
      ]
    },
    {
      "metadata": {
        "id": "iudOCwMYeco9",
        "colab_type": "code",
        "colab": {
          "autoexec": {
            "startup": false,
            "wait_interval": 0
          },
          "base_uri": "https://localhost:8080/",
          "height": 35
        },
        "outputId": "2ec7f309-30df-40ce-bf7f-72dd7acc2cb2",
        "executionInfo": {
          "status": "ok",
          "timestamp": 1527913748912,
          "user_tz": 240,
          "elapsed": 411,
          "user": {
            "displayName": "",
            "photoUrl": "",
            "userId": ""
          }
        }
      },
      "cell_type": "code",
      "source": [
        "#load the library and check its version, just to make sure we aren't using an older version\n",
        "import numpy as np\n",
        "np.__version__\n"
      ],
      "execution_count": 78,
      "outputs": [
        {
          "output_type": "execute_result",
          "data": {
            "text/plain": [
              "'1.14.3'"
            ]
          },
          "metadata": {
            "tags": []
          },
          "execution_count": 78
        }
      ]
    },
    {
      "metadata": {
        "id": "tm71xN6xek7S",
        "colab_type": "code",
        "colab": {
          "autoexec": {
            "startup": false,
            "wait_interval": 0
          },
          "base_uri": "https://localhost:8080/",
          "height": 17
        },
        "outputId": "2e99a1e5-6427-4a09-e97d-f45c48738605",
        "executionInfo": {
          "status": "ok",
          "timestamp": 1527909089757,
          "user_tz": 240,
          "elapsed": 319,
          "user": {
            "displayName": "",
            "photoUrl": "",
            "userId": ""
          }
        }
      },
      "cell_type": "code",
      "source": [
        "#create a list comprising numbers from 0 to 9\n",
        "L = list(range(10))"
      ],
      "execution_count": 2,
      "outputs": []
    },
    {
      "metadata": {
        "id": "XvZdgO3teo3o",
        "colab_type": "code",
        "colab": {
          "autoexec": {
            "startup": false,
            "wait_interval": 0
          },
          "base_uri": "https://localhost:8080/",
          "height": 35
        },
        "outputId": "99200404-7989-4a01-d534-c5d503ba8ed3",
        "executionInfo": {
          "status": "ok",
          "timestamp": 1527913772016,
          "user_tz": 240,
          "elapsed": 342,
          "user": {
            "displayName": "",
            "photoUrl": "",
            "userId": ""
          }
        }
      },
      "cell_type": "code",
      "source": [
        "#converting integers to string - this style of handling lists is known as list comprehension.\n",
        "#List comprehension offers a versatile way to handle list manipulations tasks easily. We'll learn about them in future tutorials. Here's an example.  \n",
        "\n",
        "[str(c) for c in L]\n",
        "\n"
      ],
      "execution_count": 80,
      "outputs": [
        {
          "output_type": "execute_result",
          "data": {
            "text/plain": [
              "['0', '1', '2', '3', '4', '5', '6', '7', '8', '9']"
            ]
          },
          "metadata": {
            "tags": []
          },
          "execution_count": 80
        }
      ]
    },
    {
      "metadata": {
        "id": "cxx1YvHzwfnk",
        "colab_type": "code",
        "colab": {
          "autoexec": {
            "startup": false,
            "wait_interval": 0
          },
          "base_uri": "https://localhost:8080/",
          "height": 35
        },
        "outputId": "08041764-af29-4912-f83e-c8a55e5f8647",
        "executionInfo": {
          "status": "ok",
          "timestamp": 1527913777012,
          "user_tz": 240,
          "elapsed": 439,
          "user": {
            "displayName": "",
            "photoUrl": "",
            "userId": ""
          }
        }
      },
      "cell_type": "code",
      "source": [
        "[type(item) for item in L]"
      ],
      "execution_count": 81,
      "outputs": [
        {
          "output_type": "execute_result",
          "data": {
            "text/plain": [
              "[int, int, int, int, int, int, int, int, int, int]"
            ]
          },
          "metadata": {
            "tags": []
          },
          "execution_count": 81
        }
      ]
    },
    {
      "metadata": {
        "id": "JsYPJQCMtAD9",
        "colab_type": "text"
      },
      "cell_type": "markdown",
      "source": [
        "# Creating Arrays"
      ]
    },
    {
      "metadata": {
        "id": "Y8ep34TDtIw8",
        "colab_type": "text"
      },
      "cell_type": "markdown",
      "source": [
        "Numpy arrays are homogeneous in nature, i.e., they comprise one data type (integer, float, double, etc.) unlike lists."
      ]
    },
    {
      "metadata": {
        "id": "tGeiXrmIet1x",
        "colab_type": "code",
        "colab": {
          "autoexec": {
            "startup": false,
            "wait_interval": 0
          },
          "base_uri": "https://localhost:8080/",
          "height": 72
        },
        "outputId": "021cc86e-e3a9-4130-dbc8-105fc5a218bc",
        "executionInfo": {
          "status": "ok",
          "timestamp": 1527909210402,
          "user_tz": 240,
          "elapsed": 460,
          "user": {
            "displayName": "",
            "photoUrl": "",
            "userId": ""
          }
        }
      },
      "cell_type": "code",
      "source": [
        "#creating arrays\n",
        "np.zeros(10, dtype='int')\n",
        "\n",
        "#creating a 3 row x 5 column matrix\n",
        "np.ones((3,5), dtype=float)\n",
        "\n",
        "\n",
        "#creating a matrix with a predefined value\n",
        "np.full((3,5),1.23)\n",
        "\n",
        "#create an array with a set sequence\n",
        "np.arange(0, 20, 2)\n",
        "\n",
        "#create an array of even space between the given range of values\n",
        "np.linspace(0, 1, 5)\n",
        "\n",
        "#create a 3x3 array with mean 0 and standard deviation 1 in a given dimension\n",
        "np.random.normal(0, 1, (3,3))\n",
        "\n",
        "#create an identity matrix\n",
        "np.eye(3)\n",
        "\n",
        "#set a random seed\n",
        "np.random.seed(0)\n",
        "\n",
        "\n",
        "x1 = np.random.randint(10, size=6) #one dimension\n",
        "x2 = np.random.randint(10, size=(3,4)) #two dimension\n",
        "x3 = np.random.randint(10, size=(3,4,5)) #three dimension\n",
        "\n",
        "\n",
        "print(\"x3 ndim:\", x3.ndim)\n",
        "print(\"x3 shape:\", x3.shape)\n",
        "print(\"x3 size: \", x3.size)\n"
      ],
      "execution_count": 5,
      "outputs": [
        {
          "output_type": "stream",
          "text": [
            "x3 ndim: 3\n",
            "x3 shape: (3, 4, 5)\n",
            "x3 size:  60\n"
          ],
          "name": "stdout"
        }
      ]
    },
    {
      "metadata": {
        "id": "H-jfEmVvtMhW",
        "colab_type": "text"
      },
      "cell_type": "markdown",
      "source": [
        "# Array Indexing"
      ]
    },
    {
      "metadata": {
        "id": "dziYTwGDqg6t",
        "colab_type": "text"
      },
      "cell_type": "markdown",
      "source": [
        "The important thing to remember is that indexing in python starts at zero."
      ]
    },
    {
      "metadata": {
        "id": "sQ_zaWi4fHK_",
        "colab_type": "code",
        "colab": {
          "autoexec": {
            "startup": false,
            "wait_interval": 0
          },
          "base_uri": "https://localhost:8080/",
          "height": 35
        },
        "outputId": "14a4756c-ac7e-48c0-95a7-80901f39fec3",
        "executionInfo": {
          "status": "ok",
          "timestamp": 1527912299149,
          "user_tz": 240,
          "elapsed": 354,
          "user": {
            "displayName": "",
            "photoUrl": "",
            "userId": ""
          }
        }
      },
      "cell_type": "code",
      "source": [
        "x1 = np.array([4, 3, 4, 4, 8, 4])\n",
        "x1\n",
        "\n",
        "#assess value to index zero\n",
        "x1[0]\n",
        "\n",
        "#assess fifth value\n",
        "x1[4]\n",
        "\n",
        "#get the last value\n",
        "x1[-1]\n",
        "\n",
        "#get the second last value\n",
        "x1[-2]\n",
        "\n",
        "#in a multidimensional array, we need to specify row and column index\n",
        "x2\n"
      ],
      "execution_count": 74,
      "outputs": [
        {
          "output_type": "execute_result",
          "data": {
            "text/plain": [
              "array([3, 4, 5])"
            ]
          },
          "metadata": {
            "tags": []
          },
          "execution_count": 74
        }
      ]
    },
    {
      "metadata": {
        "id": "g2yi9ZUjtSPD",
        "colab_type": "text"
      },
      "cell_type": "markdown",
      "source": [
        "# Array Slicing"
      ]
    },
    {
      "metadata": {
        "id": "IDVrUqV2q78C",
        "colab_type": "text"
      },
      "cell_type": "markdown",
      "source": [
        "Now, we'll learn to access multiple or a range of elements from an array."
      ]
    },
    {
      "metadata": {
        "id": "dDf2up_efaVb",
        "colab_type": "code",
        "colab": {
          "autoexec": {
            "startup": false,
            "wait_interval": 0
          },
          "base_uri": "https://localhost:8080/",
          "height": 35
        },
        "outputId": "e82e0b02-3b15-4ff8-c247-55281a1c57c0",
        "executionInfo": {
          "status": "ok",
          "timestamp": 1527909373931,
          "user_tz": 240,
          "elapsed": 387,
          "user": {
            "displayName": "",
            "photoUrl": "",
            "userId": ""
          }
        }
      },
      "cell_type": "code",
      "source": [
        "x = np.arange(10)\n",
        "x\n",
        "\n",
        "#from start to 4th position\n",
        "x[:5]\n",
        "\n",
        "#from 4th position to end\n",
        "x[4:]\n",
        "\n",
        "#from 4th to 6th position\n",
        "x[4:7]\n",
        "\n",
        "#return elements at even place\n",
        "x[ : : 2]\n",
        "\n",
        "#return elements from first position step by two\n",
        "x[1::2]\n",
        "\n",
        "#reverse the array\n",
        "x[::-1]"
      ],
      "execution_count": 7,
      "outputs": [
        {
          "output_type": "execute_result",
          "data": {
            "text/plain": [
              "array([9, 8, 7, 6, 5, 4, 3, 2, 1, 0])"
            ]
          },
          "metadata": {
            "tags": []
          },
          "execution_count": 7
        }
      ]
    },
    {
      "metadata": {
        "id": "gmBkw4_FtYdB",
        "colab_type": "text"
      },
      "cell_type": "markdown",
      "source": [
        "# Array Concatenation"
      ]
    },
    {
      "metadata": {
        "id": "CEvDkmF6rMEd",
        "colab_type": "text"
      },
      "cell_type": "markdown",
      "source": [
        "Many a time, we are required to combine different arrays. So, instead of typing each of their elements manually, you can use array concatenation to handle such tasks easily."
      ]
    },
    {
      "metadata": {
        "id": "na0VvPXmYKp1",
        "colab_type": "code",
        "colab": {
          "autoexec": {
            "startup": false,
            "wait_interval": 0
          },
          "base_uri": "https://localhost:8080/",
          "height": 35
        },
        "outputId": "08948c86-9d32-4a05-ea8c-870261468c2e",
        "executionInfo": {
          "status": "ok",
          "timestamp": 1527914112279,
          "user_tz": 240,
          "elapsed": 338,
          "user": {
            "displayName": "",
            "photoUrl": "",
            "userId": ""
          }
        }
      },
      "cell_type": "code",
      "source": [
        "#You can concatenate two or more arrays at once.\n",
        "x = np.array([1, 2, 3])\n",
        "y = np.array([3, 2, 1])\n",
        "z = [21,21,21]\n",
        "np.concatenate([x, y,z])\n"
      ],
      "execution_count": 82,
      "outputs": [
        {
          "output_type": "execute_result",
          "data": {
            "text/plain": [
              "array([ 1,  2,  3,  3,  2,  1, 21, 21, 21])"
            ]
          },
          "metadata": {
            "tags": []
          },
          "execution_count": 82
        }
      ]
    },
    {
      "metadata": {
        "id": "fSxk7y7-xyhn",
        "colab_type": "code",
        "colab": {
          "autoexec": {
            "startup": false,
            "wait_interval": 0
          },
          "base_uri": "https://localhost:8080/",
          "height": 90
        },
        "outputId": "af56a1ea-0b86-4832-8d75-53d1535911de",
        "executionInfo": {
          "status": "ok",
          "timestamp": 1527914120525,
          "user_tz": 240,
          "elapsed": 619,
          "user": {
            "displayName": "",
            "photoUrl": "",
            "userId": ""
          }
        }
      },
      "cell_type": "code",
      "source": [
        "\n",
        "#You can also use this function to create 2-dimensional arrays.\n",
        "grid = np.array([[1,2,3],[4,5,6]])\n",
        "np.concatenate([grid,grid])\n"
      ],
      "execution_count": 83,
      "outputs": [
        {
          "output_type": "execute_result",
          "data": {
            "text/plain": [
              "array([[1, 2, 3],\n",
              "       [4, 5, 6],\n",
              "       [1, 2, 3],\n",
              "       [4, 5, 6]])"
            ]
          },
          "metadata": {
            "tags": []
          },
          "execution_count": 83
        }
      ]
    },
    {
      "metadata": {
        "id": "HuYgtqS8x0iB",
        "colab_type": "code",
        "colab": {
          "autoexec": {
            "startup": false,
            "wait_interval": 0
          },
          "base_uri": "https://localhost:8080/",
          "height": 54
        },
        "outputId": "c314365f-5fa7-4a28-b539-ab552a748fc2",
        "executionInfo": {
          "status": "ok",
          "timestamp": 1527914125003,
          "user_tz": 240,
          "elapsed": 315,
          "user": {
            "displayName": "",
            "photoUrl": "",
            "userId": ""
          }
        }
      },
      "cell_type": "code",
      "source": [
        "\n",
        "#Using its axis parameter, you can define row-wise or column-wise matrix\n",
        "np.concatenate([grid,grid],axis=1)\n"
      ],
      "execution_count": 84,
      "outputs": [
        {
          "output_type": "execute_result",
          "data": {
            "text/plain": [
              "array([[1, 2, 3, 1, 2, 3],\n",
              "       [4, 5, 6, 4, 5, 6]])"
            ]
          },
          "metadata": {
            "tags": []
          },
          "execution_count": 84
        }
      ]
    },
    {
      "metadata": {
        "id": "dI217Hh2rU-Q",
        "colab_type": "text"
      },
      "cell_type": "markdown",
      "source": [
        "Until now, we used the concatenation function of arrays of equal dimension. But, what if you are required to combine a 2D array with 1D array? In such situations, np.concatenate might not be the best option to use. Instead, you can use np.vstack or np.hstack to do the task. Let's see how!"
      ]
    },
    {
      "metadata": {
        "id": "dwoWy9Lyf9Lg",
        "colab_type": "code",
        "colab": {
          "autoexec": {
            "startup": false,
            "wait_interval": 0
          },
          "base_uri": "https://localhost:8080/",
          "height": 72
        },
        "outputId": "a80b8453-9b17-4620-a3b3-eaaea1374a4e",
        "executionInfo": {
          "status": "ok",
          "timestamp": 1527912453108,
          "user_tz": 240,
          "elapsed": 355,
          "user": {
            "displayName": "",
            "photoUrl": "",
            "userId": ""
          }
        }
      },
      "cell_type": "code",
      "source": [
        "x = np.array([3,4,5])\n",
        "grid = np.array([[1,2,3],[17,18,19]])\n",
        "np.vstack([x,grid])\n"
      ],
      "execution_count": 75,
      "outputs": [
        {
          "output_type": "execute_result",
          "data": {
            "text/plain": [
              "array([[ 3,  4,  5],\n",
              "       [ 1,  2,  3],\n",
              "       [17, 18, 19]])"
            ]
          },
          "metadata": {
            "tags": []
          },
          "execution_count": 75
        }
      ]
    },
    {
      "metadata": {
        "id": "cWRI5WBLrd1e",
        "colab_type": "code",
        "colab": {
          "autoexec": {
            "startup": false,
            "wait_interval": 0
          },
          "base_uri": "https://localhost:8080/",
          "height": 54
        },
        "outputId": "5d6c3e89-efdd-4324-cc2b-167e6ac948fe",
        "executionInfo": {
          "status": "ok",
          "timestamp": 1527912470869,
          "user_tz": 240,
          "elapsed": 622,
          "user": {
            "displayName": "",
            "photoUrl": "",
            "userId": ""
          }
        }
      },
      "cell_type": "code",
      "source": [
        "#Similarly, you can add an array using np.hstack\n",
        "z = np.array([[9],[9]])\n",
        "np.hstack([grid,z])"
      ],
      "execution_count": 76,
      "outputs": [
        {
          "output_type": "execute_result",
          "data": {
            "text/plain": [
              "array([[ 1,  2,  3,  9],\n",
              "       [17, 18, 19,  9]])"
            ]
          },
          "metadata": {
            "tags": []
          },
          "execution_count": 76
        }
      ]
    },
    {
      "metadata": {
        "id": "PInVrGgSrk3e",
        "colab_type": "text"
      },
      "cell_type": "markdown",
      "source": [
        "Also, we can split the arrays based on pre-defined positions. Let's see how!"
      ]
    },
    {
      "metadata": {
        "id": "I8X7f3GZgOpT",
        "colab_type": "code",
        "colab": {
          "autoexec": {
            "startup": false,
            "wait_interval": 0
          },
          "base_uri": "https://localhost:8080/",
          "height": 90
        },
        "outputId": "b05660f8-2865-48b4-8458-95b6c9eddf49",
        "executionInfo": {
          "status": "ok",
          "timestamp": 1527909560503,
          "user_tz": 240,
          "elapsed": 618,
          "user": {
            "displayName": "",
            "photoUrl": "",
            "userId": ""
          }
        }
      },
      "cell_type": "code",
      "source": [
        "x = np.arange(10)\n",
        "x\n",
        "\n",
        "\n",
        "x1,x2,x3 = np.split(x,[3,6])\n",
        "print (x1,x2,x3)\n",
        "\n",
        "\n",
        "grid = np.arange(16).reshape((4,4))\n",
        "grid\n",
        "upper,lower = np.vsplit(grid,[2])\n",
        "print (upper, lower)\n"
      ],
      "execution_count": 11,
      "outputs": [
        {
          "output_type": "stream",
          "text": [
            "[0 1 2] [3 4 5] [6 7 8 9]\n",
            "[[0 1 2 3]\n",
            " [4 5 6 7]] [[ 8  9 10 11]\n",
            " [12 13 14 15]]\n"
          ],
          "name": "stdout"
        }
      ]
    },
    {
      "metadata": {
        "id": "fHPp6vRzrtyk",
        "colab_type": "text"
      },
      "cell_type": "markdown",
      "source": [
        "In addition to the functions we learned above, there are several other mathematical functions available in the numpy library such as sum, divide, multiple, abs, power, mod, sin, cos, tan, log, var, min, mean, max, etc. which you can be used to perform basic arithmetic calculations. Feel free to refer to numpy documentation for more information on such functions.\n",
        "\n",
        "Let's move on to pandas now. Make sure you following each line below because it'll help you in doing data manipulation using pandas.\n",
        "\n",
        "\n"
      ]
    },
    {
      "metadata": {
        "id": "tsa0uil1tgJI",
        "colab_type": "text"
      },
      "cell_type": "markdown",
      "source": [
        "# Let's start with Pandas"
      ]
    },
    {
      "metadata": {
        "id": "SzKFGyF0gebi",
        "colab_type": "code",
        "colab": {
          "autoexec": {
            "startup": false,
            "wait_interval": 0
          },
          "base_uri": "https://localhost:8080/",
          "height": 17
        },
        "outputId": "d272a239-34de-43b8-a78b-719cfbf14094",
        "executionInfo": {
          "status": "ok",
          "timestamp": 1527909579560,
          "user_tz": 240,
          "elapsed": 297,
          "user": {
            "displayName": "",
            "photoUrl": "",
            "userId": ""
          }
        }
      },
      "cell_type": "code",
      "source": [
        "#load library - pd is just an alias. I used pd because it's short and literally abbreviates pandas.\n",
        "#You can use any name as an alias. \n",
        "import pandas as pd"
      ],
      "execution_count": 12,
      "outputs": []
    },
    {
      "metadata": {
        "id": "DBxufuNKgitB",
        "colab_type": "code",
        "colab": {
          "autoexec": {
            "startup": false,
            "wait_interval": 0
          },
          "base_uri": "https://localhost:8080/",
          "height": 203
        },
        "outputId": "590f3b54-1af9-4081-beb2-e03db5727fc7",
        "executionInfo": {
          "status": "ok",
          "timestamp": 1527909595809,
          "user_tz": 240,
          "elapsed": 279,
          "user": {
            "displayName": "",
            "photoUrl": "",
            "userId": ""
          }
        }
      },
      "cell_type": "code",
      "source": [
        "#create a data frame - dictionary is used here where keys get converted to column names and values to row values.\n",
        "data = pd.DataFrame({'Country': ['Russia','Colombia','Chile','Equador','Nigeria'],\n",
        "                    'Rank':[121,40,100,130,11]})\n",
        "data"
      ],
      "execution_count": 13,
      "outputs": [
        {
          "output_type": "execute_result",
          "data": {
            "text/html": [
              "<div>\n",
              "<style scoped>\n",
              "    .dataframe tbody tr th:only-of-type {\n",
              "        vertical-align: middle;\n",
              "    }\n",
              "\n",
              "    .dataframe tbody tr th {\n",
              "        vertical-align: top;\n",
              "    }\n",
              "\n",
              "    .dataframe thead th {\n",
              "        text-align: right;\n",
              "    }\n",
              "</style>\n",
              "<table border=\"1\" class=\"dataframe\">\n",
              "  <thead>\n",
              "    <tr style=\"text-align: right;\">\n",
              "      <th></th>\n",
              "      <th>Country</th>\n",
              "      <th>Rank</th>\n",
              "    </tr>\n",
              "  </thead>\n",
              "  <tbody>\n",
              "    <tr>\n",
              "      <th>0</th>\n",
              "      <td>Russia</td>\n",
              "      <td>121</td>\n",
              "    </tr>\n",
              "    <tr>\n",
              "      <th>1</th>\n",
              "      <td>Colombia</td>\n",
              "      <td>40</td>\n",
              "    </tr>\n",
              "    <tr>\n",
              "      <th>2</th>\n",
              "      <td>Chile</td>\n",
              "      <td>100</td>\n",
              "    </tr>\n",
              "    <tr>\n",
              "      <th>3</th>\n",
              "      <td>Equador</td>\n",
              "      <td>130</td>\n",
              "    </tr>\n",
              "    <tr>\n",
              "      <th>4</th>\n",
              "      <td>Nigeria</td>\n",
              "      <td>11</td>\n",
              "    </tr>\n",
              "  </tbody>\n",
              "</table>\n",
              "</div>"
            ],
            "text/plain": [
              "    Country  Rank\n",
              "0    Russia   121\n",
              "1  Colombia    40\n",
              "2     Chile   100\n",
              "3   Equador   130\n",
              "4   Nigeria    11"
            ]
          },
          "metadata": {
            "tags": []
          },
          "execution_count": 13
        }
      ]
    },
    {
      "metadata": {
        "id": "Xe9qW8WIg0ls",
        "colab_type": "code",
        "colab": {
          "autoexec": {
            "startup": false,
            "wait_interval": 0
          },
          "base_uri": "https://localhost:8080/",
          "height": 295
        },
        "outputId": "b95f78eb-5ff5-44d4-8acb-9d653408b23a",
        "executionInfo": {
          "status": "ok",
          "timestamp": 1527909669604,
          "user_tz": 240,
          "elapsed": 330,
          "user": {
            "displayName": "",
            "photoUrl": "",
            "userId": ""
          }
        }
      },
      "cell_type": "code",
      "source": [
        "#We can do a quick analysis of any data set using:\n",
        "data.describe()"
      ],
      "execution_count": 14,
      "outputs": [
        {
          "output_type": "execute_result",
          "data": {
            "text/html": [
              "<div>\n",
              "<style scoped>\n",
              "    .dataframe tbody tr th:only-of-type {\n",
              "        vertical-align: middle;\n",
              "    }\n",
              "\n",
              "    .dataframe tbody tr th {\n",
              "        vertical-align: top;\n",
              "    }\n",
              "\n",
              "    .dataframe thead th {\n",
              "        text-align: right;\n",
              "    }\n",
              "</style>\n",
              "<table border=\"1\" class=\"dataframe\">\n",
              "  <thead>\n",
              "    <tr style=\"text-align: right;\">\n",
              "      <th></th>\n",
              "      <th>Rank</th>\n",
              "    </tr>\n",
              "  </thead>\n",
              "  <tbody>\n",
              "    <tr>\n",
              "      <th>count</th>\n",
              "      <td>5.000000</td>\n",
              "    </tr>\n",
              "    <tr>\n",
              "      <th>mean</th>\n",
              "      <td>80.400000</td>\n",
              "    </tr>\n",
              "    <tr>\n",
              "      <th>std</th>\n",
              "      <td>52.300096</td>\n",
              "    </tr>\n",
              "    <tr>\n",
              "      <th>min</th>\n",
              "      <td>11.000000</td>\n",
              "    </tr>\n",
              "    <tr>\n",
              "      <th>25%</th>\n",
              "      <td>40.000000</td>\n",
              "    </tr>\n",
              "    <tr>\n",
              "      <th>50%</th>\n",
              "      <td>100.000000</td>\n",
              "    </tr>\n",
              "    <tr>\n",
              "      <th>75%</th>\n",
              "      <td>121.000000</td>\n",
              "    </tr>\n",
              "    <tr>\n",
              "      <th>max</th>\n",
              "      <td>130.000000</td>\n",
              "    </tr>\n",
              "  </tbody>\n",
              "</table>\n",
              "</div>"
            ],
            "text/plain": [
              "             Rank\n",
              "count    5.000000\n",
              "mean    80.400000\n",
              "std     52.300096\n",
              "min     11.000000\n",
              "25%     40.000000\n",
              "50%    100.000000\n",
              "75%    121.000000\n",
              "max    130.000000"
            ]
          },
          "metadata": {
            "tags": []
          },
          "execution_count": 14
        }
      ]
    },
    {
      "metadata": {
        "id": "oTVpKYq8r5R_",
        "colab_type": "text"
      },
      "cell_type": "markdown",
      "source": [
        "Remember, describe() method computes summary statistics of integer / double variables. To get the complete information about the data set, we can use info() function."
      ]
    },
    {
      "metadata": {
        "id": "Lhb6GYARtqlt",
        "colab_type": "text"
      },
      "cell_type": "markdown",
      "source": [
        "# Pandas DataFrame"
      ]
    },
    {
      "metadata": {
        "id": "WBszczvxhQXc",
        "colab_type": "code",
        "colab": {
          "autoexec": {
            "startup": false,
            "wait_interval": 0
          },
          "base_uri": "https://localhost:8080/",
          "height": 454
        },
        "outputId": "4225a4f3-95f9-4797-b195-beda9b87139f",
        "executionInfo": {
          "status": "ok",
          "timestamp": 1527912583368,
          "user_tz": 240,
          "elapsed": 298,
          "user": {
            "displayName": "",
            "photoUrl": "",
            "userId": ""
          }
        }
      },
      "cell_type": "code",
      "source": [
        "#Among other things, it shows the data set has 5 rows and 2 columns with their respective names.\n",
        "data.info()\n",
        "\n",
        "\n",
        "#Let's create another data frame.\n",
        "data = pd.DataFrame({'group':['a', 'a', 'a', 'b','b', 'b', 'c', 'c','c'],'ounces':[4, 3, 12, 6, 7.5, 8, 3, 5, 6]})\n",
        "data"
      ],
      "execution_count": 77,
      "outputs": [
        {
          "output_type": "stream",
          "text": [
            "<class 'pandas.core.frame.DataFrame'>\n",
            "RangeIndex: 9 entries, 0 to 8\n",
            "Data columns (total 2 columns):\n",
            "group     9 non-null object\n",
            "ounces    9 non-null float64\n",
            "dtypes: float64(1), object(1)\n",
            "memory usage: 224.0+ bytes\n"
          ],
          "name": "stdout"
        },
        {
          "output_type": "execute_result",
          "data": {
            "text/html": [
              "<div>\n",
              "<style scoped>\n",
              "    .dataframe tbody tr th:only-of-type {\n",
              "        vertical-align: middle;\n",
              "    }\n",
              "\n",
              "    .dataframe tbody tr th {\n",
              "        vertical-align: top;\n",
              "    }\n",
              "\n",
              "    .dataframe thead th {\n",
              "        text-align: right;\n",
              "    }\n",
              "</style>\n",
              "<table border=\"1\" class=\"dataframe\">\n",
              "  <thead>\n",
              "    <tr style=\"text-align: right;\">\n",
              "      <th></th>\n",
              "      <th>group</th>\n",
              "      <th>ounces</th>\n",
              "    </tr>\n",
              "  </thead>\n",
              "  <tbody>\n",
              "    <tr>\n",
              "      <th>0</th>\n",
              "      <td>a</td>\n",
              "      <td>4.0</td>\n",
              "    </tr>\n",
              "    <tr>\n",
              "      <th>1</th>\n",
              "      <td>a</td>\n",
              "      <td>3.0</td>\n",
              "    </tr>\n",
              "    <tr>\n",
              "      <th>2</th>\n",
              "      <td>a</td>\n",
              "      <td>12.0</td>\n",
              "    </tr>\n",
              "    <tr>\n",
              "      <th>3</th>\n",
              "      <td>b</td>\n",
              "      <td>6.0</td>\n",
              "    </tr>\n",
              "    <tr>\n",
              "      <th>4</th>\n",
              "      <td>b</td>\n",
              "      <td>7.5</td>\n",
              "    </tr>\n",
              "    <tr>\n",
              "      <th>5</th>\n",
              "      <td>b</td>\n",
              "      <td>8.0</td>\n",
              "    </tr>\n",
              "    <tr>\n",
              "      <th>6</th>\n",
              "      <td>c</td>\n",
              "      <td>3.0</td>\n",
              "    </tr>\n",
              "    <tr>\n",
              "      <th>7</th>\n",
              "      <td>c</td>\n",
              "      <td>5.0</td>\n",
              "    </tr>\n",
              "    <tr>\n",
              "      <th>8</th>\n",
              "      <td>c</td>\n",
              "      <td>6.0</td>\n",
              "    </tr>\n",
              "  </tbody>\n",
              "</table>\n",
              "</div>"
            ],
            "text/plain": [
              "  group  ounces\n",
              "0     a     4.0\n",
              "1     a     3.0\n",
              "2     a    12.0\n",
              "3     b     6.0\n",
              "4     b     7.5\n",
              "5     b     8.0\n",
              "6     c     3.0\n",
              "7     c     5.0\n",
              "8     c     6.0"
            ]
          },
          "metadata": {
            "tags": []
          },
          "execution_count": 77
        }
      ]
    },
    {
      "metadata": {
        "id": "MhV_wpVftuDV",
        "colab_type": "text"
      },
      "cell_type": "markdown",
      "source": [
        "# Sorting"
      ]
    },
    {
      "metadata": {
        "id": "QddMoRw1hrGy",
        "colab_type": "code",
        "colab": {
          "autoexec": {
            "startup": false,
            "wait_interval": 0
          },
          "base_uri": "https://localhost:8080/",
          "height": 326
        },
        "outputId": "c3cf727f-6171-4e6f-8850-d799da32a4a0",
        "executionInfo": {
          "status": "ok",
          "timestamp": 1527909903449,
          "user_tz": 240,
          "elapsed": 372,
          "user": {
            "displayName": "",
            "photoUrl": "",
            "userId": ""
          }
        }
      },
      "cell_type": "code",
      "source": [
        "#Let's sort the data frame by ounces - inplace = True will make changes to the data\n",
        "data.sort_values(by=['ounces'],ascending=True,inplace=False)"
      ],
      "execution_count": 20,
      "outputs": [
        {
          "output_type": "execute_result",
          "data": {
            "text/html": [
              "<div>\n",
              "<style scoped>\n",
              "    .dataframe tbody tr th:only-of-type {\n",
              "        vertical-align: middle;\n",
              "    }\n",
              "\n",
              "    .dataframe tbody tr th {\n",
              "        vertical-align: top;\n",
              "    }\n",
              "\n",
              "    .dataframe thead th {\n",
              "        text-align: right;\n",
              "    }\n",
              "</style>\n",
              "<table border=\"1\" class=\"dataframe\">\n",
              "  <thead>\n",
              "    <tr style=\"text-align: right;\">\n",
              "      <th></th>\n",
              "      <th>group</th>\n",
              "      <th>ounces</th>\n",
              "    </tr>\n",
              "  </thead>\n",
              "  <tbody>\n",
              "    <tr>\n",
              "      <th>1</th>\n",
              "      <td>a</td>\n",
              "      <td>3.0</td>\n",
              "    </tr>\n",
              "    <tr>\n",
              "      <th>6</th>\n",
              "      <td>c</td>\n",
              "      <td>3.0</td>\n",
              "    </tr>\n",
              "    <tr>\n",
              "      <th>0</th>\n",
              "      <td>a</td>\n",
              "      <td>4.0</td>\n",
              "    </tr>\n",
              "    <tr>\n",
              "      <th>7</th>\n",
              "      <td>c</td>\n",
              "      <td>5.0</td>\n",
              "    </tr>\n",
              "    <tr>\n",
              "      <th>3</th>\n",
              "      <td>b</td>\n",
              "      <td>6.0</td>\n",
              "    </tr>\n",
              "    <tr>\n",
              "      <th>8</th>\n",
              "      <td>c</td>\n",
              "      <td>6.0</td>\n",
              "    </tr>\n",
              "    <tr>\n",
              "      <th>4</th>\n",
              "      <td>b</td>\n",
              "      <td>7.5</td>\n",
              "    </tr>\n",
              "    <tr>\n",
              "      <th>5</th>\n",
              "      <td>b</td>\n",
              "      <td>8.0</td>\n",
              "    </tr>\n",
              "    <tr>\n",
              "      <th>2</th>\n",
              "      <td>a</td>\n",
              "      <td>12.0</td>\n",
              "    </tr>\n",
              "  </tbody>\n",
              "</table>\n",
              "</div>"
            ],
            "text/plain": [
              "  group  ounces\n",
              "1     a     3.0\n",
              "6     c     3.0\n",
              "0     a     4.0\n",
              "7     c     5.0\n",
              "3     b     6.0\n",
              "8     c     6.0\n",
              "4     b     7.5\n",
              "5     b     8.0\n",
              "2     a    12.0"
            ]
          },
          "metadata": {
            "tags": []
          },
          "execution_count": 20
        }
      ]
    },
    {
      "metadata": {
        "id": "hS13ao0wsDAl",
        "colab_type": "text"
      },
      "cell_type": "markdown",
      "source": [
        "We can sort the data by not just one column but multiple columns as well.\n",
        "\n"
      ]
    },
    {
      "metadata": {
        "id": "_pAg_A5UhwFK",
        "colab_type": "code",
        "colab": {
          "autoexec": {
            "startup": false,
            "wait_interval": 0
          },
          "base_uri": "https://localhost:8080/",
          "height": 326
        },
        "outputId": "168e0b67-eda5-4e68-bf18-45d7e72b5074",
        "executionInfo": {
          "status": "ok",
          "timestamp": 1527909958656,
          "user_tz": 240,
          "elapsed": 345,
          "user": {
            "displayName": "",
            "photoUrl": "",
            "userId": ""
          }
        }
      },
      "cell_type": "code",
      "source": [
        "data.sort_values(by=['group','ounces'],ascending=[True,False],inplace=False)"
      ],
      "execution_count": 21,
      "outputs": [
        {
          "output_type": "execute_result",
          "data": {
            "text/html": [
              "<div>\n",
              "<style scoped>\n",
              "    .dataframe tbody tr th:only-of-type {\n",
              "        vertical-align: middle;\n",
              "    }\n",
              "\n",
              "    .dataframe tbody tr th {\n",
              "        vertical-align: top;\n",
              "    }\n",
              "\n",
              "    .dataframe thead th {\n",
              "        text-align: right;\n",
              "    }\n",
              "</style>\n",
              "<table border=\"1\" class=\"dataframe\">\n",
              "  <thead>\n",
              "    <tr style=\"text-align: right;\">\n",
              "      <th></th>\n",
              "      <th>group</th>\n",
              "      <th>ounces</th>\n",
              "    </tr>\n",
              "  </thead>\n",
              "  <tbody>\n",
              "    <tr>\n",
              "      <th>2</th>\n",
              "      <td>a</td>\n",
              "      <td>12.0</td>\n",
              "    </tr>\n",
              "    <tr>\n",
              "      <th>0</th>\n",
              "      <td>a</td>\n",
              "      <td>4.0</td>\n",
              "    </tr>\n",
              "    <tr>\n",
              "      <th>1</th>\n",
              "      <td>a</td>\n",
              "      <td>3.0</td>\n",
              "    </tr>\n",
              "    <tr>\n",
              "      <th>5</th>\n",
              "      <td>b</td>\n",
              "      <td>8.0</td>\n",
              "    </tr>\n",
              "    <tr>\n",
              "      <th>4</th>\n",
              "      <td>b</td>\n",
              "      <td>7.5</td>\n",
              "    </tr>\n",
              "    <tr>\n",
              "      <th>3</th>\n",
              "      <td>b</td>\n",
              "      <td>6.0</td>\n",
              "    </tr>\n",
              "    <tr>\n",
              "      <th>8</th>\n",
              "      <td>c</td>\n",
              "      <td>6.0</td>\n",
              "    </tr>\n",
              "    <tr>\n",
              "      <th>7</th>\n",
              "      <td>c</td>\n",
              "      <td>5.0</td>\n",
              "    </tr>\n",
              "    <tr>\n",
              "      <th>6</th>\n",
              "      <td>c</td>\n",
              "      <td>3.0</td>\n",
              "    </tr>\n",
              "  </tbody>\n",
              "</table>\n",
              "</div>"
            ],
            "text/plain": [
              "  group  ounces\n",
              "2     a    12.0\n",
              "0     a     4.0\n",
              "1     a     3.0\n",
              "5     b     8.0\n",
              "4     b     7.5\n",
              "3     b     6.0\n",
              "8     c     6.0\n",
              "7     c     5.0\n",
              "6     c     3.0"
            ]
          },
          "metadata": {
            "tags": []
          },
          "execution_count": 21
        }
      ]
    },
    {
      "metadata": {
        "id": "R7HR1LZlsIJj",
        "colab_type": "text"
      },
      "cell_type": "markdown",
      "source": [
        "Often, we get data sets with duplicate rows, which is nothing but noise. Therefore, before training the model, we need to make sure we get rid of such inconsistencies in the data set. Let's see how we can remove duplicate rows."
      ]
    },
    {
      "metadata": {
        "id": "B45Yo9dhh_wx",
        "colab_type": "code",
        "colab": {
          "autoexec": {
            "startup": false,
            "wait_interval": 0
          },
          "base_uri": "https://localhost:8080/",
          "height": 264
        },
        "outputId": "ca94da29-ff48-42fe-d3b8-cea38ad1709a",
        "executionInfo": {
          "status": "ok",
          "timestamp": 1527909994107,
          "user_tz": 240,
          "elapsed": 281,
          "user": {
            "displayName": "",
            "photoUrl": "",
            "userId": ""
          }
        }
      },
      "cell_type": "code",
      "source": [
        "#create another data with duplicated rows\n",
        "data = pd.DataFrame({'k1':['one']*3 + ['two']*4, 'k2':[3,2,1,3,3,4,4]})\n",
        "data"
      ],
      "execution_count": 22,
      "outputs": [
        {
          "output_type": "execute_result",
          "data": {
            "text/html": [
              "<div>\n",
              "<style scoped>\n",
              "    .dataframe tbody tr th:only-of-type {\n",
              "        vertical-align: middle;\n",
              "    }\n",
              "\n",
              "    .dataframe tbody tr th {\n",
              "        vertical-align: top;\n",
              "    }\n",
              "\n",
              "    .dataframe thead th {\n",
              "        text-align: right;\n",
              "    }\n",
              "</style>\n",
              "<table border=\"1\" class=\"dataframe\">\n",
              "  <thead>\n",
              "    <tr style=\"text-align: right;\">\n",
              "      <th></th>\n",
              "      <th>k1</th>\n",
              "      <th>k2</th>\n",
              "    </tr>\n",
              "  </thead>\n",
              "  <tbody>\n",
              "    <tr>\n",
              "      <th>0</th>\n",
              "      <td>one</td>\n",
              "      <td>3</td>\n",
              "    </tr>\n",
              "    <tr>\n",
              "      <th>1</th>\n",
              "      <td>one</td>\n",
              "      <td>2</td>\n",
              "    </tr>\n",
              "    <tr>\n",
              "      <th>2</th>\n",
              "      <td>one</td>\n",
              "      <td>1</td>\n",
              "    </tr>\n",
              "    <tr>\n",
              "      <th>3</th>\n",
              "      <td>two</td>\n",
              "      <td>3</td>\n",
              "    </tr>\n",
              "    <tr>\n",
              "      <th>4</th>\n",
              "      <td>two</td>\n",
              "      <td>3</td>\n",
              "    </tr>\n",
              "    <tr>\n",
              "      <th>5</th>\n",
              "      <td>two</td>\n",
              "      <td>4</td>\n",
              "    </tr>\n",
              "    <tr>\n",
              "      <th>6</th>\n",
              "      <td>two</td>\n",
              "      <td>4</td>\n",
              "    </tr>\n",
              "  </tbody>\n",
              "</table>\n",
              "</div>"
            ],
            "text/plain": [
              "    k1  k2\n",
              "0  one   3\n",
              "1  one   2\n",
              "2  one   1\n",
              "3  two   3\n",
              "4  two   3\n",
              "5  two   4\n",
              "6  two   4"
            ]
          },
          "metadata": {
            "tags": []
          },
          "execution_count": 22
        }
      ]
    },
    {
      "metadata": {
        "id": "7mz5Hj15iGfw",
        "colab_type": "code",
        "colab": {
          "autoexec": {
            "startup": false,
            "wait_interval": 0
          },
          "base_uri": "https://localhost:8080/",
          "height": 264
        },
        "outputId": "ad519c0e-3240-4db4-b7c6-a90faa5cb414",
        "executionInfo": {
          "status": "ok",
          "timestamp": 1527910011368,
          "user_tz": 240,
          "elapsed": 306,
          "user": {
            "displayName": "",
            "photoUrl": "",
            "userId": ""
          }
        }
      },
      "cell_type": "code",
      "source": [
        "#sort values \n",
        "data.sort_values(by='k2')"
      ],
      "execution_count": 23,
      "outputs": [
        {
          "output_type": "execute_result",
          "data": {
            "text/html": [
              "<div>\n",
              "<style scoped>\n",
              "    .dataframe tbody tr th:only-of-type {\n",
              "        vertical-align: middle;\n",
              "    }\n",
              "\n",
              "    .dataframe tbody tr th {\n",
              "        vertical-align: top;\n",
              "    }\n",
              "\n",
              "    .dataframe thead th {\n",
              "        text-align: right;\n",
              "    }\n",
              "</style>\n",
              "<table border=\"1\" class=\"dataframe\">\n",
              "  <thead>\n",
              "    <tr style=\"text-align: right;\">\n",
              "      <th></th>\n",
              "      <th>k1</th>\n",
              "      <th>k2</th>\n",
              "    </tr>\n",
              "  </thead>\n",
              "  <tbody>\n",
              "    <tr>\n",
              "      <th>2</th>\n",
              "      <td>one</td>\n",
              "      <td>1</td>\n",
              "    </tr>\n",
              "    <tr>\n",
              "      <th>1</th>\n",
              "      <td>one</td>\n",
              "      <td>2</td>\n",
              "    </tr>\n",
              "    <tr>\n",
              "      <th>0</th>\n",
              "      <td>one</td>\n",
              "      <td>3</td>\n",
              "    </tr>\n",
              "    <tr>\n",
              "      <th>3</th>\n",
              "      <td>two</td>\n",
              "      <td>3</td>\n",
              "    </tr>\n",
              "    <tr>\n",
              "      <th>4</th>\n",
              "      <td>two</td>\n",
              "      <td>3</td>\n",
              "    </tr>\n",
              "    <tr>\n",
              "      <th>5</th>\n",
              "      <td>two</td>\n",
              "      <td>4</td>\n",
              "    </tr>\n",
              "    <tr>\n",
              "      <th>6</th>\n",
              "      <td>two</td>\n",
              "      <td>4</td>\n",
              "    </tr>\n",
              "  </tbody>\n",
              "</table>\n",
              "</div>"
            ],
            "text/plain": [
              "    k1  k2\n",
              "2  one   1\n",
              "1  one   2\n",
              "0  one   3\n",
              "3  two   3\n",
              "4  two   3\n",
              "5  two   4\n",
              "6  two   4"
            ]
          },
          "metadata": {
            "tags": []
          },
          "execution_count": 23
        }
      ]
    },
    {
      "metadata": {
        "id": "uNIODRfViJlL",
        "colab_type": "code",
        "colab": {
          "autoexec": {
            "startup": false,
            "wait_interval": 0
          },
          "base_uri": "https://localhost:8080/",
          "height": 203
        },
        "outputId": "48214090-4a76-4557-9ccf-384fda7b9a20",
        "executionInfo": {
          "status": "ok",
          "timestamp": 1527910062349,
          "user_tz": 240,
          "elapsed": 412,
          "user": {
            "displayName": "",
            "photoUrl": "",
            "userId": ""
          }
        }
      },
      "cell_type": "code",
      "source": [
        "#remove duplicates - ta da! \n",
        "data.drop_duplicates()\n"
      ],
      "execution_count": 25,
      "outputs": [
        {
          "output_type": "execute_result",
          "data": {
            "text/html": [
              "<div>\n",
              "<style scoped>\n",
              "    .dataframe tbody tr th:only-of-type {\n",
              "        vertical-align: middle;\n",
              "    }\n",
              "\n",
              "    .dataframe tbody tr th {\n",
              "        vertical-align: top;\n",
              "    }\n",
              "\n",
              "    .dataframe thead th {\n",
              "        text-align: right;\n",
              "    }\n",
              "</style>\n",
              "<table border=\"1\" class=\"dataframe\">\n",
              "  <thead>\n",
              "    <tr style=\"text-align: right;\">\n",
              "      <th></th>\n",
              "      <th>k1</th>\n",
              "      <th>k2</th>\n",
              "    </tr>\n",
              "  </thead>\n",
              "  <tbody>\n",
              "    <tr>\n",
              "      <th>0</th>\n",
              "      <td>one</td>\n",
              "      <td>3</td>\n",
              "    </tr>\n",
              "    <tr>\n",
              "      <th>1</th>\n",
              "      <td>one</td>\n",
              "      <td>2</td>\n",
              "    </tr>\n",
              "    <tr>\n",
              "      <th>2</th>\n",
              "      <td>one</td>\n",
              "      <td>1</td>\n",
              "    </tr>\n",
              "    <tr>\n",
              "      <th>3</th>\n",
              "      <td>two</td>\n",
              "      <td>3</td>\n",
              "    </tr>\n",
              "    <tr>\n",
              "      <th>5</th>\n",
              "      <td>two</td>\n",
              "      <td>4</td>\n",
              "    </tr>\n",
              "  </tbody>\n",
              "</table>\n",
              "</div>"
            ],
            "text/plain": [
              "    k1  k2\n",
              "0  one   3\n",
              "1  one   2\n",
              "2  one   1\n",
              "3  two   3\n",
              "5  two   4"
            ]
          },
          "metadata": {
            "tags": []
          },
          "execution_count": 25
        }
      ]
    },
    {
      "metadata": {
        "id": "OpRTFUfxsR_Z",
        "colab_type": "text"
      },
      "cell_type": "markdown",
      "source": [
        "Here, we removed duplicates based on matching row values across all columns. Alternatively, we can also remove duplicates based on a particular column. Let's remove duplicate values from the k1 column."
      ]
    },
    {
      "metadata": {
        "id": "DhpTdiA-iWPm",
        "colab_type": "code",
        "colab": {
          "autoexec": {
            "startup": false,
            "wait_interval": 0
          },
          "base_uri": "https://localhost:8080/",
          "height": 110
        },
        "outputId": "553a16f3-2442-4150-a19f-6c5879447a39",
        "executionInfo": {
          "status": "ok",
          "timestamp": 1527910068458,
          "user_tz": 240,
          "elapsed": 523,
          "user": {
            "displayName": "",
            "photoUrl": "",
            "userId": ""
          }
        }
      },
      "cell_type": "code",
      "source": [
        "data.drop_duplicates(subset='k1')"
      ],
      "execution_count": 26,
      "outputs": [
        {
          "output_type": "execute_result",
          "data": {
            "text/html": [
              "<div>\n",
              "<style scoped>\n",
              "    .dataframe tbody tr th:only-of-type {\n",
              "        vertical-align: middle;\n",
              "    }\n",
              "\n",
              "    .dataframe tbody tr th {\n",
              "        vertical-align: top;\n",
              "    }\n",
              "\n",
              "    .dataframe thead th {\n",
              "        text-align: right;\n",
              "    }\n",
              "</style>\n",
              "<table border=\"1\" class=\"dataframe\">\n",
              "  <thead>\n",
              "    <tr style=\"text-align: right;\">\n",
              "      <th></th>\n",
              "      <th>k1</th>\n",
              "      <th>k2</th>\n",
              "    </tr>\n",
              "  </thead>\n",
              "  <tbody>\n",
              "    <tr>\n",
              "      <th>0</th>\n",
              "      <td>one</td>\n",
              "      <td>3</td>\n",
              "    </tr>\n",
              "    <tr>\n",
              "      <th>3</th>\n",
              "      <td>two</td>\n",
              "      <td>3</td>\n",
              "    </tr>\n",
              "  </tbody>\n",
              "</table>\n",
              "</div>"
            ],
            "text/plain": [
              "    k1  k2\n",
              "0  one   3\n",
              "3  two   3"
            ]
          },
          "metadata": {
            "tags": []
          },
          "execution_count": 26
        }
      ]
    },
    {
      "metadata": {
        "id": "U7zb50d5ia6i",
        "colab_type": "text"
      },
      "cell_type": "markdown",
      "source": [
        "Now, we will learn to categorize rows based on a predefined criteria. It happens a lot while data processing where you need to categorize a variable. For example, say we have got a column with country names and we want to create a new variable 'continent' based on these country names. In such situations, we will require the steps below:"
      ]
    },
    {
      "metadata": {
        "id": "exiaRO9ricvu",
        "colab_type": "code",
        "colab": {
          "autoexec": {
            "startup": false,
            "wait_interval": 0
          },
          "base_uri": "https://localhost:8080/",
          "height": 326
        },
        "outputId": "d5bca61b-a390-42ce-b5a1-2bb10981c483",
        "executionInfo": {
          "status": "ok",
          "timestamp": 1527910103072,
          "user_tz": 240,
          "elapsed": 436,
          "user": {
            "displayName": "",
            "photoUrl": "",
            "userId": ""
          }
        }
      },
      "cell_type": "code",
      "source": [
        "data = pd.DataFrame({'food': ['bacon', 'pulled pork', 'bacon', 'Pastrami','corned beef', 'Bacon', 'pastrami', 'honey ham','nova lox'],\n",
        "                 'ounces': [4, 3, 12, 6, 7.5, 8, 3, 5, 6]})\n",
        "data"
      ],
      "execution_count": 27,
      "outputs": [
        {
          "output_type": "execute_result",
          "data": {
            "text/html": [
              "<div>\n",
              "<style scoped>\n",
              "    .dataframe tbody tr th:only-of-type {\n",
              "        vertical-align: middle;\n",
              "    }\n",
              "\n",
              "    .dataframe tbody tr th {\n",
              "        vertical-align: top;\n",
              "    }\n",
              "\n",
              "    .dataframe thead th {\n",
              "        text-align: right;\n",
              "    }\n",
              "</style>\n",
              "<table border=\"1\" class=\"dataframe\">\n",
              "  <thead>\n",
              "    <tr style=\"text-align: right;\">\n",
              "      <th></th>\n",
              "      <th>food</th>\n",
              "      <th>ounces</th>\n",
              "    </tr>\n",
              "  </thead>\n",
              "  <tbody>\n",
              "    <tr>\n",
              "      <th>0</th>\n",
              "      <td>bacon</td>\n",
              "      <td>4.0</td>\n",
              "    </tr>\n",
              "    <tr>\n",
              "      <th>1</th>\n",
              "      <td>pulled pork</td>\n",
              "      <td>3.0</td>\n",
              "    </tr>\n",
              "    <tr>\n",
              "      <th>2</th>\n",
              "      <td>bacon</td>\n",
              "      <td>12.0</td>\n",
              "    </tr>\n",
              "    <tr>\n",
              "      <th>3</th>\n",
              "      <td>Pastrami</td>\n",
              "      <td>6.0</td>\n",
              "    </tr>\n",
              "    <tr>\n",
              "      <th>4</th>\n",
              "      <td>corned beef</td>\n",
              "      <td>7.5</td>\n",
              "    </tr>\n",
              "    <tr>\n",
              "      <th>5</th>\n",
              "      <td>Bacon</td>\n",
              "      <td>8.0</td>\n",
              "    </tr>\n",
              "    <tr>\n",
              "      <th>6</th>\n",
              "      <td>pastrami</td>\n",
              "      <td>3.0</td>\n",
              "    </tr>\n",
              "    <tr>\n",
              "      <th>7</th>\n",
              "      <td>honey ham</td>\n",
              "      <td>5.0</td>\n",
              "    </tr>\n",
              "    <tr>\n",
              "      <th>8</th>\n",
              "      <td>nova lox</td>\n",
              "      <td>6.0</td>\n",
              "    </tr>\n",
              "  </tbody>\n",
              "</table>\n",
              "</div>"
            ],
            "text/plain": [
              "          food  ounces\n",
              "0        bacon     4.0\n",
              "1  pulled pork     3.0\n",
              "2        bacon    12.0\n",
              "3     Pastrami     6.0\n",
              "4  corned beef     7.5\n",
              "5        Bacon     8.0\n",
              "6     pastrami     3.0\n",
              "7    honey ham     5.0\n",
              "8     nova lox     6.0"
            ]
          },
          "metadata": {
            "tags": []
          },
          "execution_count": 27
        }
      ]
    },
    {
      "metadata": {
        "id": "dmfndwzvuEpx",
        "colab_type": "text"
      },
      "cell_type": "markdown",
      "source": [
        "# Creating new variable"
      ]
    },
    {
      "metadata": {
        "id": "f7NesTQWinTR",
        "colab_type": "text"
      },
      "cell_type": "markdown",
      "source": [
        "Now, we want to create a new variable which indicates the type of animal which acts as the source of the food. To do that, first we'll create a dictionary to map the food to the animals. Then, we'll use map function to map the dictionary's values to the keys. Let's see how is it done."
      ]
    },
    {
      "metadata": {
        "id": "p7Mz6wMvigza",
        "colab_type": "code",
        "colab": {
          "autoexec": {
            "startup": false,
            "wait_interval": 0
          },
          "base_uri": "https://localhost:8080/",
          "height": 326
        },
        "outputId": "f5fa8289-3973-4e3a-8357-cd8adacda690",
        "executionInfo": {
          "status": "ok",
          "timestamp": 1527910128241,
          "user_tz": 240,
          "elapsed": 336,
          "user": {
            "displayName": "",
            "photoUrl": "",
            "userId": ""
          }
        }
      },
      "cell_type": "code",
      "source": [
        "meat_to_animal = {\n",
        "'bacon': 'pig',\n",
        "'pulled pork': 'pig',\n",
        "'pastrami': 'cow',\n",
        "'corned beef': 'cow',\n",
        "'honey ham': 'pig',\n",
        "'nova lox': 'salmon'\n",
        "}\n",
        "\n",
        "def meat_2_animal(series):\n",
        "    if series['food'] == 'bacon':\n",
        "        return 'pig'\n",
        "    elif series['food'] == 'pulled pork':\n",
        "        return 'pig'\n",
        "    elif series['food'] == 'pastrami':\n",
        "        return 'cow'\n",
        "    elif series['food'] == 'corned beef':\n",
        "        return 'cow'\n",
        "    elif series['food'] == 'honey ham':\n",
        "        return 'pig'\n",
        "    else:\n",
        "        return 'salmon'\n",
        "\n",
        "\n",
        "#create a new variable\n",
        "data['animal'] = data['food'].map(str.lower).map(meat_to_animal)\n",
        "data"
      ],
      "execution_count": 28,
      "outputs": [
        {
          "output_type": "execute_result",
          "data": {
            "text/html": [
              "<div>\n",
              "<style scoped>\n",
              "    .dataframe tbody tr th:only-of-type {\n",
              "        vertical-align: middle;\n",
              "    }\n",
              "\n",
              "    .dataframe tbody tr th {\n",
              "        vertical-align: top;\n",
              "    }\n",
              "\n",
              "    .dataframe thead th {\n",
              "        text-align: right;\n",
              "    }\n",
              "</style>\n",
              "<table border=\"1\" class=\"dataframe\">\n",
              "  <thead>\n",
              "    <tr style=\"text-align: right;\">\n",
              "      <th></th>\n",
              "      <th>food</th>\n",
              "      <th>ounces</th>\n",
              "      <th>animal</th>\n",
              "    </tr>\n",
              "  </thead>\n",
              "  <tbody>\n",
              "    <tr>\n",
              "      <th>0</th>\n",
              "      <td>bacon</td>\n",
              "      <td>4.0</td>\n",
              "      <td>pig</td>\n",
              "    </tr>\n",
              "    <tr>\n",
              "      <th>1</th>\n",
              "      <td>pulled pork</td>\n",
              "      <td>3.0</td>\n",
              "      <td>pig</td>\n",
              "    </tr>\n",
              "    <tr>\n",
              "      <th>2</th>\n",
              "      <td>bacon</td>\n",
              "      <td>12.0</td>\n",
              "      <td>pig</td>\n",
              "    </tr>\n",
              "    <tr>\n",
              "      <th>3</th>\n",
              "      <td>Pastrami</td>\n",
              "      <td>6.0</td>\n",
              "      <td>cow</td>\n",
              "    </tr>\n",
              "    <tr>\n",
              "      <th>4</th>\n",
              "      <td>corned beef</td>\n",
              "      <td>7.5</td>\n",
              "      <td>cow</td>\n",
              "    </tr>\n",
              "    <tr>\n",
              "      <th>5</th>\n",
              "      <td>Bacon</td>\n",
              "      <td>8.0</td>\n",
              "      <td>pig</td>\n",
              "    </tr>\n",
              "    <tr>\n",
              "      <th>6</th>\n",
              "      <td>pastrami</td>\n",
              "      <td>3.0</td>\n",
              "      <td>cow</td>\n",
              "    </tr>\n",
              "    <tr>\n",
              "      <th>7</th>\n",
              "      <td>honey ham</td>\n",
              "      <td>5.0</td>\n",
              "      <td>pig</td>\n",
              "    </tr>\n",
              "    <tr>\n",
              "      <th>8</th>\n",
              "      <td>nova lox</td>\n",
              "      <td>6.0</td>\n",
              "      <td>salmon</td>\n",
              "    </tr>\n",
              "  </tbody>\n",
              "</table>\n",
              "</div>"
            ],
            "text/plain": [
              "          food  ounces  animal\n",
              "0        bacon     4.0     pig\n",
              "1  pulled pork     3.0     pig\n",
              "2        bacon    12.0     pig\n",
              "3     Pastrami     6.0     cow\n",
              "4  corned beef     7.5     cow\n",
              "5        Bacon     8.0     pig\n",
              "6     pastrami     3.0     cow\n",
              "7    honey ham     5.0     pig\n",
              "8     nova lox     6.0  salmon"
            ]
          },
          "metadata": {
            "tags": []
          },
          "execution_count": 28
        }
      ]
    },
    {
      "metadata": {
        "id": "swEhaJxvjxFb",
        "colab_type": "code",
        "colab": {
          "autoexec": {
            "startup": false,
            "wait_interval": 0
          },
          "base_uri": "https://localhost:8080/",
          "height": 326
        },
        "outputId": "5afc2f3c-240a-464d-9087-0979d5f38f0d",
        "executionInfo": {
          "status": "ok",
          "timestamp": 1527910462313,
          "user_tz": 240,
          "elapsed": 449,
          "user": {
            "displayName": "",
            "photoUrl": "",
            "userId": ""
          }
        }
      },
      "cell_type": "code",
      "source": [
        "#another way of doing it is: convert the food values to the lower case and apply the function\n",
        "lower = lambda x: x.lower()\n",
        "data['food'] = data['food'].apply(lower)\n",
        "data['animal2'] = data.apply(meat_2_animal, axis='columns')\n",
        "data"
      ],
      "execution_count": 29,
      "outputs": [
        {
          "output_type": "execute_result",
          "data": {
            "text/html": [
              "<div>\n",
              "<style scoped>\n",
              "    .dataframe tbody tr th:only-of-type {\n",
              "        vertical-align: middle;\n",
              "    }\n",
              "\n",
              "    .dataframe tbody tr th {\n",
              "        vertical-align: top;\n",
              "    }\n",
              "\n",
              "    .dataframe thead th {\n",
              "        text-align: right;\n",
              "    }\n",
              "</style>\n",
              "<table border=\"1\" class=\"dataframe\">\n",
              "  <thead>\n",
              "    <tr style=\"text-align: right;\">\n",
              "      <th></th>\n",
              "      <th>food</th>\n",
              "      <th>ounces</th>\n",
              "      <th>animal</th>\n",
              "      <th>animal2</th>\n",
              "    </tr>\n",
              "  </thead>\n",
              "  <tbody>\n",
              "    <tr>\n",
              "      <th>0</th>\n",
              "      <td>bacon</td>\n",
              "      <td>4.0</td>\n",
              "      <td>pig</td>\n",
              "      <td>pig</td>\n",
              "    </tr>\n",
              "    <tr>\n",
              "      <th>1</th>\n",
              "      <td>pulled pork</td>\n",
              "      <td>3.0</td>\n",
              "      <td>pig</td>\n",
              "      <td>pig</td>\n",
              "    </tr>\n",
              "    <tr>\n",
              "      <th>2</th>\n",
              "      <td>bacon</td>\n",
              "      <td>12.0</td>\n",
              "      <td>pig</td>\n",
              "      <td>pig</td>\n",
              "    </tr>\n",
              "    <tr>\n",
              "      <th>3</th>\n",
              "      <td>pastrami</td>\n",
              "      <td>6.0</td>\n",
              "      <td>cow</td>\n",
              "      <td>cow</td>\n",
              "    </tr>\n",
              "    <tr>\n",
              "      <th>4</th>\n",
              "      <td>corned beef</td>\n",
              "      <td>7.5</td>\n",
              "      <td>cow</td>\n",
              "      <td>cow</td>\n",
              "    </tr>\n",
              "    <tr>\n",
              "      <th>5</th>\n",
              "      <td>bacon</td>\n",
              "      <td>8.0</td>\n",
              "      <td>pig</td>\n",
              "      <td>pig</td>\n",
              "    </tr>\n",
              "    <tr>\n",
              "      <th>6</th>\n",
              "      <td>pastrami</td>\n",
              "      <td>3.0</td>\n",
              "      <td>cow</td>\n",
              "      <td>cow</td>\n",
              "    </tr>\n",
              "    <tr>\n",
              "      <th>7</th>\n",
              "      <td>honey ham</td>\n",
              "      <td>5.0</td>\n",
              "      <td>pig</td>\n",
              "      <td>pig</td>\n",
              "    </tr>\n",
              "    <tr>\n",
              "      <th>8</th>\n",
              "      <td>nova lox</td>\n",
              "      <td>6.0</td>\n",
              "      <td>salmon</td>\n",
              "      <td>salmon</td>\n",
              "    </tr>\n",
              "  </tbody>\n",
              "</table>\n",
              "</div>"
            ],
            "text/plain": [
              "          food  ounces  animal animal2\n",
              "0        bacon     4.0     pig     pig\n",
              "1  pulled pork     3.0     pig     pig\n",
              "2        bacon    12.0     pig     pig\n",
              "3     pastrami     6.0     cow     cow\n",
              "4  corned beef     7.5     cow     cow\n",
              "5        bacon     8.0     pig     pig\n",
              "6     pastrami     3.0     cow     cow\n",
              "7    honey ham     5.0     pig     pig\n",
              "8     nova lox     6.0  salmon  salmon"
            ]
          },
          "metadata": {
            "tags": []
          },
          "execution_count": 29
        }
      ]
    },
    {
      "metadata": {
        "id": "w5gh5QsEj4Vz",
        "colab_type": "code",
        "colab": {
          "autoexec": {
            "startup": false,
            "wait_interval": 0
          },
          "base_uri": "https://localhost:8080/",
          "height": 326
        },
        "outputId": "7ad93fbc-8de2-4156-8ce5-a2dec9e46b5a",
        "executionInfo": {
          "status": "ok",
          "timestamp": 1527910484428,
          "user_tz": 240,
          "elapsed": 305,
          "user": {
            "displayName": "",
            "photoUrl": "",
            "userId": ""
          }
        }
      },
      "cell_type": "code",
      "source": [
        "data.assign(new_variable = data['ounces']*10)\n"
      ],
      "execution_count": 30,
      "outputs": [
        {
          "output_type": "execute_result",
          "data": {
            "text/html": [
              "<div>\n",
              "<style scoped>\n",
              "    .dataframe tbody tr th:only-of-type {\n",
              "        vertical-align: middle;\n",
              "    }\n",
              "\n",
              "    .dataframe tbody tr th {\n",
              "        vertical-align: top;\n",
              "    }\n",
              "\n",
              "    .dataframe thead th {\n",
              "        text-align: right;\n",
              "    }\n",
              "</style>\n",
              "<table border=\"1\" class=\"dataframe\">\n",
              "  <thead>\n",
              "    <tr style=\"text-align: right;\">\n",
              "      <th></th>\n",
              "      <th>food</th>\n",
              "      <th>ounces</th>\n",
              "      <th>animal</th>\n",
              "      <th>animal2</th>\n",
              "      <th>new_variable</th>\n",
              "    </tr>\n",
              "  </thead>\n",
              "  <tbody>\n",
              "    <tr>\n",
              "      <th>0</th>\n",
              "      <td>bacon</td>\n",
              "      <td>4.0</td>\n",
              "      <td>pig</td>\n",
              "      <td>pig</td>\n",
              "      <td>40.0</td>\n",
              "    </tr>\n",
              "    <tr>\n",
              "      <th>1</th>\n",
              "      <td>pulled pork</td>\n",
              "      <td>3.0</td>\n",
              "      <td>pig</td>\n",
              "      <td>pig</td>\n",
              "      <td>30.0</td>\n",
              "    </tr>\n",
              "    <tr>\n",
              "      <th>2</th>\n",
              "      <td>bacon</td>\n",
              "      <td>12.0</td>\n",
              "      <td>pig</td>\n",
              "      <td>pig</td>\n",
              "      <td>120.0</td>\n",
              "    </tr>\n",
              "    <tr>\n",
              "      <th>3</th>\n",
              "      <td>pastrami</td>\n",
              "      <td>6.0</td>\n",
              "      <td>cow</td>\n",
              "      <td>cow</td>\n",
              "      <td>60.0</td>\n",
              "    </tr>\n",
              "    <tr>\n",
              "      <th>4</th>\n",
              "      <td>corned beef</td>\n",
              "      <td>7.5</td>\n",
              "      <td>cow</td>\n",
              "      <td>cow</td>\n",
              "      <td>75.0</td>\n",
              "    </tr>\n",
              "    <tr>\n",
              "      <th>5</th>\n",
              "      <td>bacon</td>\n",
              "      <td>8.0</td>\n",
              "      <td>pig</td>\n",
              "      <td>pig</td>\n",
              "      <td>80.0</td>\n",
              "    </tr>\n",
              "    <tr>\n",
              "      <th>6</th>\n",
              "      <td>pastrami</td>\n",
              "      <td>3.0</td>\n",
              "      <td>cow</td>\n",
              "      <td>cow</td>\n",
              "      <td>30.0</td>\n",
              "    </tr>\n",
              "    <tr>\n",
              "      <th>7</th>\n",
              "      <td>honey ham</td>\n",
              "      <td>5.0</td>\n",
              "      <td>pig</td>\n",
              "      <td>pig</td>\n",
              "      <td>50.0</td>\n",
              "    </tr>\n",
              "    <tr>\n",
              "      <th>8</th>\n",
              "      <td>nova lox</td>\n",
              "      <td>6.0</td>\n",
              "      <td>salmon</td>\n",
              "      <td>salmon</td>\n",
              "      <td>60.0</td>\n",
              "    </tr>\n",
              "  </tbody>\n",
              "</table>\n",
              "</div>"
            ],
            "text/plain": [
              "          food  ounces  animal animal2  new_variable\n",
              "0        bacon     4.0     pig     pig          40.0\n",
              "1  pulled pork     3.0     pig     pig          30.0\n",
              "2        bacon    12.0     pig     pig         120.0\n",
              "3     pastrami     6.0     cow     cow          60.0\n",
              "4  corned beef     7.5     cow     cow          75.0\n",
              "5        bacon     8.0     pig     pig          80.0\n",
              "6     pastrami     3.0     cow     cow          30.0\n",
              "7    honey ham     5.0     pig     pig          50.0\n",
              "8     nova lox     6.0  salmon  salmon          60.0"
            ]
          },
          "metadata": {
            "tags": []
          },
          "execution_count": 30
        }
      ]
    },
    {
      "metadata": {
        "id": "Z5O0gzBmuKNh",
        "colab_type": "text"
      },
      "cell_type": "markdown",
      "source": [
        "# Removing columns"
      ]
    },
    {
      "metadata": {
        "id": "_kInP0HskCiF",
        "colab_type": "text"
      },
      "cell_type": "markdown",
      "source": [
        "Let's remove the column animal2 from our data frame."
      ]
    },
    {
      "metadata": {
        "id": "fTLyBnINj86I",
        "colab_type": "code",
        "colab": {
          "autoexec": {
            "startup": false,
            "wait_interval": 0
          },
          "base_uri": "https://localhost:8080/",
          "height": 326
        },
        "outputId": "5e4e691b-1f14-42ed-c27d-4cbb462e2cff",
        "executionInfo": {
          "status": "ok",
          "timestamp": 1527910507595,
          "user_tz": 240,
          "elapsed": 323,
          "user": {
            "displayName": "",
            "photoUrl": "",
            "userId": ""
          }
        }
      },
      "cell_type": "code",
      "source": [
        "data.drop('animal2',axis='columns',inplace=True)\n",
        "data"
      ],
      "execution_count": 31,
      "outputs": [
        {
          "output_type": "execute_result",
          "data": {
            "text/html": [
              "<div>\n",
              "<style scoped>\n",
              "    .dataframe tbody tr th:only-of-type {\n",
              "        vertical-align: middle;\n",
              "    }\n",
              "\n",
              "    .dataframe tbody tr th {\n",
              "        vertical-align: top;\n",
              "    }\n",
              "\n",
              "    .dataframe thead th {\n",
              "        text-align: right;\n",
              "    }\n",
              "</style>\n",
              "<table border=\"1\" class=\"dataframe\">\n",
              "  <thead>\n",
              "    <tr style=\"text-align: right;\">\n",
              "      <th></th>\n",
              "      <th>food</th>\n",
              "      <th>ounces</th>\n",
              "      <th>animal</th>\n",
              "    </tr>\n",
              "  </thead>\n",
              "  <tbody>\n",
              "    <tr>\n",
              "      <th>0</th>\n",
              "      <td>bacon</td>\n",
              "      <td>4.0</td>\n",
              "      <td>pig</td>\n",
              "    </tr>\n",
              "    <tr>\n",
              "      <th>1</th>\n",
              "      <td>pulled pork</td>\n",
              "      <td>3.0</td>\n",
              "      <td>pig</td>\n",
              "    </tr>\n",
              "    <tr>\n",
              "      <th>2</th>\n",
              "      <td>bacon</td>\n",
              "      <td>12.0</td>\n",
              "      <td>pig</td>\n",
              "    </tr>\n",
              "    <tr>\n",
              "      <th>3</th>\n",
              "      <td>pastrami</td>\n",
              "      <td>6.0</td>\n",
              "      <td>cow</td>\n",
              "    </tr>\n",
              "    <tr>\n",
              "      <th>4</th>\n",
              "      <td>corned beef</td>\n",
              "      <td>7.5</td>\n",
              "      <td>cow</td>\n",
              "    </tr>\n",
              "    <tr>\n",
              "      <th>5</th>\n",
              "      <td>bacon</td>\n",
              "      <td>8.0</td>\n",
              "      <td>pig</td>\n",
              "    </tr>\n",
              "    <tr>\n",
              "      <th>6</th>\n",
              "      <td>pastrami</td>\n",
              "      <td>3.0</td>\n",
              "      <td>cow</td>\n",
              "    </tr>\n",
              "    <tr>\n",
              "      <th>7</th>\n",
              "      <td>honey ham</td>\n",
              "      <td>5.0</td>\n",
              "      <td>pig</td>\n",
              "    </tr>\n",
              "    <tr>\n",
              "      <th>8</th>\n",
              "      <td>nova lox</td>\n",
              "      <td>6.0</td>\n",
              "      <td>salmon</td>\n",
              "    </tr>\n",
              "  </tbody>\n",
              "</table>\n",
              "</div>"
            ],
            "text/plain": [
              "          food  ounces  animal\n",
              "0        bacon     4.0     pig\n",
              "1  pulled pork     3.0     pig\n",
              "2        bacon    12.0     pig\n",
              "3     pastrami     6.0     cow\n",
              "4  corned beef     7.5     cow\n",
              "5        bacon     8.0     pig\n",
              "6     pastrami     3.0     cow\n",
              "7    honey ham     5.0     pig\n",
              "8     nova lox     6.0  salmon"
            ]
          },
          "metadata": {
            "tags": []
          },
          "execution_count": 31
        }
      ]
    },
    {
      "metadata": {
        "id": "QoEYx9JkuTtB",
        "colab_type": "text"
      },
      "cell_type": "markdown",
      "source": [
        "# Missing values"
      ]
    },
    {
      "metadata": {
        "id": "E8WjFi3XkTpO",
        "colab_type": "text"
      },
      "cell_type": "markdown",
      "source": [
        "We frequently find missing values in our data set. A quick method for imputing missing values is by filling the missing value with any random number. Not just missing values, you may find lots of outliers in your data set, which might require replacing. Let's see how can we replace values."
      ]
    },
    {
      "metadata": {
        "id": "GP2jhk4okE6g",
        "colab_type": "code",
        "colab": {
          "autoexec": {
            "startup": false,
            "wait_interval": 0
          },
          "base_uri": "https://localhost:8080/",
          "height": 145
        },
        "outputId": "43e92568-c33e-4d23-c3dd-3896f2173000",
        "executionInfo": {
          "status": "ok",
          "timestamp": 1527910597280,
          "user_tz": 240,
          "elapsed": 537,
          "user": {
            "displayName": "",
            "photoUrl": "",
            "userId": ""
          }
        }
      },
      "cell_type": "code",
      "source": [
        "#Series function from pandas are used to create arrays\n",
        "data = pd.Series([1., -999., 2., -999., -1000., 3.])\n",
        "data\n",
        "\n",
        "\n",
        "#replace -999 with NaN values\n",
        "data.replace(-999, np.nan,inplace=True)\n",
        "data\n",
        "\n",
        "#We can also replace multiple values at once.\n",
        "data = pd.Series([1., -999., 2., -999., -1000., 3.])\n",
        "data.replace([-999,-1000],np.nan,inplace=True)\n",
        "data\n"
      ],
      "execution_count": 34,
      "outputs": [
        {
          "output_type": "execute_result",
          "data": {
            "text/plain": [
              "0    1.0\n",
              "1    NaN\n",
              "2    2.0\n",
              "3    NaN\n",
              "4    NaN\n",
              "5    3.0\n",
              "dtype: float64"
            ]
          },
          "metadata": {
            "tags": []
          },
          "execution_count": 34
        }
      ]
    },
    {
      "metadata": {
        "id": "YpIJ0dqyuX5p",
        "colab_type": "text"
      },
      "cell_type": "markdown",
      "source": [
        "# Rename columns and rows"
      ]
    },
    {
      "metadata": {
        "id": "_rLvuCx3kg1g",
        "colab_type": "text"
      },
      "cell_type": "markdown",
      "source": [
        "Now, let's learn how to rename column names and axis (row names).\n"
      ]
    },
    {
      "metadata": {
        "id": "eAr-8MYQkdIh",
        "colab_type": "code",
        "colab": {
          "autoexec": {
            "startup": false,
            "wait_interval": 0
          },
          "base_uri": "https://localhost:8080/",
          "height": 141
        },
        "outputId": "48232ed4-19e0-4579-82df-0344dfaceeca",
        "executionInfo": {
          "status": "ok",
          "timestamp": 1527910623464,
          "user_tz": 240,
          "elapsed": 275,
          "user": {
            "displayName": "",
            "photoUrl": "",
            "userId": ""
          }
        }
      },
      "cell_type": "code",
      "source": [
        "data = pd.DataFrame(np.arange(12).reshape((3, 4)),index=['Ohio', 'Colorado', 'New York'],columns=['one', 'two', 'three', 'four'])\n",
        "data"
      ],
      "execution_count": 35,
      "outputs": [
        {
          "output_type": "execute_result",
          "data": {
            "text/html": [
              "<div>\n",
              "<style scoped>\n",
              "    .dataframe tbody tr th:only-of-type {\n",
              "        vertical-align: middle;\n",
              "    }\n",
              "\n",
              "    .dataframe tbody tr th {\n",
              "        vertical-align: top;\n",
              "    }\n",
              "\n",
              "    .dataframe thead th {\n",
              "        text-align: right;\n",
              "    }\n",
              "</style>\n",
              "<table border=\"1\" class=\"dataframe\">\n",
              "  <thead>\n",
              "    <tr style=\"text-align: right;\">\n",
              "      <th></th>\n",
              "      <th>one</th>\n",
              "      <th>two</th>\n",
              "      <th>three</th>\n",
              "      <th>four</th>\n",
              "    </tr>\n",
              "  </thead>\n",
              "  <tbody>\n",
              "    <tr>\n",
              "      <th>Ohio</th>\n",
              "      <td>0</td>\n",
              "      <td>1</td>\n",
              "      <td>2</td>\n",
              "      <td>3</td>\n",
              "    </tr>\n",
              "    <tr>\n",
              "      <th>Colorado</th>\n",
              "      <td>4</td>\n",
              "      <td>5</td>\n",
              "      <td>6</td>\n",
              "      <td>7</td>\n",
              "    </tr>\n",
              "    <tr>\n",
              "      <th>New York</th>\n",
              "      <td>8</td>\n",
              "      <td>9</td>\n",
              "      <td>10</td>\n",
              "      <td>11</td>\n",
              "    </tr>\n",
              "  </tbody>\n",
              "</table>\n",
              "</div>"
            ],
            "text/plain": [
              "          one  two  three  four\n",
              "Ohio        0    1      2     3\n",
              "Colorado    4    5      6     7\n",
              "New York    8    9     10    11"
            ]
          },
          "metadata": {
            "tags": []
          },
          "execution_count": 35
        }
      ]
    },
    {
      "metadata": {
        "id": "e5VRAwQ8kmf9",
        "colab_type": "code",
        "colab": {
          "autoexec": {
            "startup": false,
            "wait_interval": 0
          },
          "base_uri": "https://localhost:8080/",
          "height": 141
        },
        "outputId": "7d7e1798-ae01-45b9-881c-6b119277e466",
        "executionInfo": {
          "status": "ok",
          "timestamp": 1527910672180,
          "user_tz": 240,
          "elapsed": 539,
          "user": {
            "displayName": "",
            "photoUrl": "",
            "userId": ""
          }
        }
      },
      "cell_type": "code",
      "source": [
        "#Using rename function\n",
        "data.rename(index = {'Ohio':'SanF'}, columns={'one':'one_p','two':'two_p'},inplace=True)\n",
        "data"
      ],
      "execution_count": 36,
      "outputs": [
        {
          "output_type": "execute_result",
          "data": {
            "text/html": [
              "<div>\n",
              "<style scoped>\n",
              "    .dataframe tbody tr th:only-of-type {\n",
              "        vertical-align: middle;\n",
              "    }\n",
              "\n",
              "    .dataframe tbody tr th {\n",
              "        vertical-align: top;\n",
              "    }\n",
              "\n",
              "    .dataframe thead th {\n",
              "        text-align: right;\n",
              "    }\n",
              "</style>\n",
              "<table border=\"1\" class=\"dataframe\">\n",
              "  <thead>\n",
              "    <tr style=\"text-align: right;\">\n",
              "      <th></th>\n",
              "      <th>one_p</th>\n",
              "      <th>two_p</th>\n",
              "      <th>three</th>\n",
              "      <th>four</th>\n",
              "    </tr>\n",
              "  </thead>\n",
              "  <tbody>\n",
              "    <tr>\n",
              "      <th>SanF</th>\n",
              "      <td>0</td>\n",
              "      <td>1</td>\n",
              "      <td>2</td>\n",
              "      <td>3</td>\n",
              "    </tr>\n",
              "    <tr>\n",
              "      <th>Colorado</th>\n",
              "      <td>4</td>\n",
              "      <td>5</td>\n",
              "      <td>6</td>\n",
              "      <td>7</td>\n",
              "    </tr>\n",
              "    <tr>\n",
              "      <th>New York</th>\n",
              "      <td>8</td>\n",
              "      <td>9</td>\n",
              "      <td>10</td>\n",
              "      <td>11</td>\n",
              "    </tr>\n",
              "  </tbody>\n",
              "</table>\n",
              "</div>"
            ],
            "text/plain": [
              "          one_p  two_p  three  four\n",
              "SanF          0      1      2     3\n",
              "Colorado      4      5      6     7\n",
              "New York      8      9     10    11"
            ]
          },
          "metadata": {
            "tags": []
          },
          "execution_count": 36
        }
      ]
    },
    {
      "metadata": {
        "id": "IS0CuXRCktgh",
        "colab_type": "code",
        "colab": {
          "autoexec": {
            "startup": false,
            "wait_interval": 0
          },
          "base_uri": "https://localhost:8080/",
          "height": 141
        },
        "outputId": "926f4919-ff48-494d-c9cb-52b2a5d5c904",
        "executionInfo": {
          "status": "ok",
          "timestamp": 1527910687779,
          "user_tz": 240,
          "elapsed": 366,
          "user": {
            "displayName": "",
            "photoUrl": "",
            "userId": ""
          }
        }
      },
      "cell_type": "code",
      "source": [
        "#You can also use string functions\n",
        "data.rename(index = str.upper, columns=str.title,inplace=True)\n",
        "data"
      ],
      "execution_count": 37,
      "outputs": [
        {
          "output_type": "execute_result",
          "data": {
            "text/html": [
              "<div>\n",
              "<style scoped>\n",
              "    .dataframe tbody tr th:only-of-type {\n",
              "        vertical-align: middle;\n",
              "    }\n",
              "\n",
              "    .dataframe tbody tr th {\n",
              "        vertical-align: top;\n",
              "    }\n",
              "\n",
              "    .dataframe thead th {\n",
              "        text-align: right;\n",
              "    }\n",
              "</style>\n",
              "<table border=\"1\" class=\"dataframe\">\n",
              "  <thead>\n",
              "    <tr style=\"text-align: right;\">\n",
              "      <th></th>\n",
              "      <th>One_P</th>\n",
              "      <th>Two_P</th>\n",
              "      <th>Three</th>\n",
              "      <th>Four</th>\n",
              "    </tr>\n",
              "  </thead>\n",
              "  <tbody>\n",
              "    <tr>\n",
              "      <th>SANF</th>\n",
              "      <td>0</td>\n",
              "      <td>1</td>\n",
              "      <td>2</td>\n",
              "      <td>3</td>\n",
              "    </tr>\n",
              "    <tr>\n",
              "      <th>COLORADO</th>\n",
              "      <td>4</td>\n",
              "      <td>5</td>\n",
              "      <td>6</td>\n",
              "      <td>7</td>\n",
              "    </tr>\n",
              "    <tr>\n",
              "      <th>NEW YORK</th>\n",
              "      <td>8</td>\n",
              "      <td>9</td>\n",
              "      <td>10</td>\n",
              "      <td>11</td>\n",
              "    </tr>\n",
              "  </tbody>\n",
              "</table>\n",
              "</div>"
            ],
            "text/plain": [
              "          One_P  Two_P  Three  Four\n",
              "SANF          0      1      2     3\n",
              "COLORADO      4      5      6     7\n",
              "NEW YORK      8      9     10    11"
            ]
          },
          "metadata": {
            "tags": []
          },
          "execution_count": 37
        }
      ]
    },
    {
      "metadata": {
        "id": "mMJN7JXckx0U",
        "colab_type": "text"
      },
      "cell_type": "markdown",
      "source": [
        "Next, we'll learn to categorize (bin) continuous variables."
      ]
    },
    {
      "metadata": {
        "id": "6dB9dvhUlBJB",
        "colab_type": "code",
        "colab": {
          "autoexec": {
            "startup": false,
            "wait_interval": 0
          },
          "base_uri": "https://localhost:8080/",
          "height": 17
        },
        "outputId": "333c6897-c6e7-4ae6-f572-34e85557d50d",
        "executionInfo": {
          "status": "ok",
          "timestamp": 1527910790668,
          "user_tz": 240,
          "elapsed": 275,
          "user": {
            "displayName": "",
            "photoUrl": "",
            "userId": ""
          }
        }
      },
      "cell_type": "code",
      "source": [
        "ages = [20, 22, 25, 27, 21, 23, 37, 31, 61, 45, 41, 32]\n"
      ],
      "execution_count": 41,
      "outputs": []
    },
    {
      "metadata": {
        "id": "ajQPyIAiuitF",
        "colab_type": "text"
      },
      "cell_type": "markdown",
      "source": [
        "# Dividing values into bins"
      ]
    },
    {
      "metadata": {
        "id": "nHaxomCllDgf",
        "colab_type": "text"
      },
      "cell_type": "markdown",
      "source": [
        "We'll divide the ages into bins such as 18-25, 26-35,36-60 and 60 and above.\n",
        "\n"
      ]
    },
    {
      "metadata": {
        "id": "PEjHcpjMkyfT",
        "colab_type": "code",
        "colab": {
          "autoexec": {
            "startup": false,
            "wait_interval": 0
          },
          "base_uri": "https://localhost:8080/",
          "height": 108
        },
        "outputId": "1279ef9f-6ad2-463b-ccef-f3d7712dc0f7",
        "executionInfo": {
          "status": "ok",
          "timestamp": 1527910831034,
          "user_tz": 240,
          "elapsed": 317,
          "user": {
            "displayName": "",
            "photoUrl": "",
            "userId": ""
          }
        }
      },
      "cell_type": "code",
      "source": [
        "#Understand the output - '(' means the value is included in the bin, '[' means the value is excluded\n",
        "bins = [18, 25, 35, 60, 100]\n",
        "cats = pd.cut(ages, bins)\n",
        "cats\n",
        "\n",
        "#To include the right bin value, we can do:\n",
        "pd.cut(ages,bins,right=False)\n",
        "\n",
        "#pandas library intrinsically assigns an encoding to categorical variables.\n",
        "cats.codes\n",
        "\n",
        "#Let's check how many observations fall under each bin\n",
        "pd.value_counts(cats)\n"
      ],
      "execution_count": 43,
      "outputs": [
        {
          "output_type": "execute_result",
          "data": {
            "text/plain": [
              "(18, 25]     5\n",
              "(35, 60]     3\n",
              "(25, 35]     3\n",
              "(60, 100]    1\n",
              "dtype: int64"
            ]
          },
          "metadata": {
            "tags": []
          },
          "execution_count": 43
        }
      ]
    },
    {
      "metadata": {
        "id": "9XqCP2zLunOl",
        "colab_type": "code",
        "colab": {
          "autoexec": {
            "startup": false,
            "wait_interval": 0
          }
        }
      },
      "cell_type": "code",
      "source": [
        "Applying labels to bins"
      ],
      "execution_count": 0,
      "outputs": []
    },
    {
      "metadata": {
        "id": "StsbuKDjlXFs",
        "colab_type": "text"
      },
      "cell_type": "markdown",
      "source": [
        "Also, we can pass a unique name to each label.\n",
        "\n"
      ]
    },
    {
      "metadata": {
        "id": "UClUcBsFlZkx",
        "colab_type": "code",
        "colab": {
          "autoexec": {
            "startup": false,
            "wait_interval": 0
          },
          "base_uri": "https://localhost:8080/",
          "height": 108
        },
        "outputId": "6b3451d7-0863-4eff-f5fa-edb7d1e90823",
        "executionInfo": {
          "status": "ok",
          "timestamp": 1527910888404,
          "user_tz": 240,
          "elapsed": 809,
          "user": {
            "displayName": "",
            "photoUrl": "",
            "userId": ""
          }
        }
      },
      "cell_type": "code",
      "source": [
        "bin_names = ['Youth', 'YoungAdult', 'MiddleAge', 'Senior']\n",
        "new_cats = pd.cut(ages, bins,labels=bin_names)\n",
        "\n",
        "pd.value_counts(new_cats)"
      ],
      "execution_count": 44,
      "outputs": [
        {
          "output_type": "execute_result",
          "data": {
            "text/plain": [
              "Youth         5\n",
              "MiddleAge     3\n",
              "YoungAdult    3\n",
              "Senior        1\n",
              "dtype: int64"
            ]
          },
          "metadata": {
            "tags": []
          },
          "execution_count": 44
        }
      ]
    },
    {
      "metadata": {
        "id": "dRdBgOerliZo",
        "colab_type": "code",
        "colab": {
          "autoexec": {
            "startup": false,
            "wait_interval": 0
          },
          "base_uri": "https://localhost:8080/",
          "height": 108
        },
        "outputId": "a2793650-8dc8-4c15-b693-75ea8973ee90",
        "executionInfo": {
          "status": "ok",
          "timestamp": 1527910904608,
          "user_tz": 240,
          "elapsed": 311,
          "user": {
            "displayName": "",
            "photoUrl": "",
            "userId": ""
          }
        }
      },
      "cell_type": "code",
      "source": [
        "#we can also calculate their cumulative sum\n",
        "pd.value_counts(new_cats).cumsum()"
      ],
      "execution_count": 45,
      "outputs": [
        {
          "output_type": "execute_result",
          "data": {
            "text/plain": [
              "Youth          5\n",
              "MiddleAge      8\n",
              "YoungAdult    11\n",
              "Senior        12\n",
              "dtype: int64"
            ]
          },
          "metadata": {
            "tags": []
          },
          "execution_count": 45
        }
      ]
    },
    {
      "metadata": {
        "id": "f-Ln9qhauuWP",
        "colab_type": "text"
      },
      "cell_type": "markdown",
      "source": [
        "# Grouping Data"
      ]
    },
    {
      "metadata": {
        "id": "EgrYsiLvloLa",
        "colab_type": "text"
      },
      "cell_type": "markdown",
      "source": [
        "Let's proceed and learn about grouping data and creating pivots in pandas. It's an immensely important data analysis method which you'd probably have to use on every data set you work with."
      ]
    },
    {
      "metadata": {
        "id": "3_jDcyT5lo5t",
        "colab_type": "code",
        "colab": {
          "autoexec": {
            "startup": false,
            "wait_interval": 0
          },
          "base_uri": "https://localhost:8080/",
          "height": 203
        },
        "outputId": "c87ec8fd-ab30-443d-bc63-db858b28ec9d",
        "executionInfo": {
          "status": "ok",
          "timestamp": 1527910939860,
          "user_tz": 240,
          "elapsed": 504,
          "user": {
            "displayName": "",
            "photoUrl": "",
            "userId": ""
          }
        }
      },
      "cell_type": "code",
      "source": [
        "df = pd.DataFrame({'key1' : ['a', 'a', 'b', 'b', 'a'],\n",
        "                   'key2' : ['one', 'two', 'one', 'two', 'one'],\n",
        "                   'data1' : np.random.randn(5),\n",
        "                   'data2' : np.random.randn(5)})\n",
        "df"
      ],
      "execution_count": 46,
      "outputs": [
        {
          "output_type": "execute_result",
          "data": {
            "text/html": [
              "<div>\n",
              "<style scoped>\n",
              "    .dataframe tbody tr th:only-of-type {\n",
              "        vertical-align: middle;\n",
              "    }\n",
              "\n",
              "    .dataframe tbody tr th {\n",
              "        vertical-align: top;\n",
              "    }\n",
              "\n",
              "    .dataframe thead th {\n",
              "        text-align: right;\n",
              "    }\n",
              "</style>\n",
              "<table border=\"1\" class=\"dataframe\">\n",
              "  <thead>\n",
              "    <tr style=\"text-align: right;\">\n",
              "      <th></th>\n",
              "      <th>data1</th>\n",
              "      <th>data2</th>\n",
              "      <th>key1</th>\n",
              "      <th>key2</th>\n",
              "    </tr>\n",
              "  </thead>\n",
              "  <tbody>\n",
              "    <tr>\n",
              "      <th>0</th>\n",
              "      <td>1.254414</td>\n",
              "      <td>1.149076</td>\n",
              "      <td>a</td>\n",
              "      <td>one</td>\n",
              "    </tr>\n",
              "    <tr>\n",
              "      <th>1</th>\n",
              "      <td>1.419102</td>\n",
              "      <td>-1.193578</td>\n",
              "      <td>a</td>\n",
              "      <td>two</td>\n",
              "    </tr>\n",
              "    <tr>\n",
              "      <th>2</th>\n",
              "      <td>-0.743856</td>\n",
              "      <td>1.141042</td>\n",
              "      <td>b</td>\n",
              "      <td>one</td>\n",
              "    </tr>\n",
              "    <tr>\n",
              "      <th>3</th>\n",
              "      <td>-2.517437</td>\n",
              "      <td>1.509445</td>\n",
              "      <td>b</td>\n",
              "      <td>two</td>\n",
              "    </tr>\n",
              "    <tr>\n",
              "      <th>4</th>\n",
              "      <td>-1.507096</td>\n",
              "      <td>1.067775</td>\n",
              "      <td>a</td>\n",
              "      <td>one</td>\n",
              "    </tr>\n",
              "  </tbody>\n",
              "</table>\n",
              "</div>"
            ],
            "text/plain": [
              "      data1     data2 key1 key2\n",
              "0  1.254414  1.149076    a  one\n",
              "1  1.419102 -1.193578    a  two\n",
              "2 -0.743856  1.141042    b  one\n",
              "3 -2.517437  1.509445    b  two\n",
              "4 -1.507096  1.067775    a  one"
            ]
          },
          "metadata": {
            "tags": []
          },
          "execution_count": 46
        }
      ]
    },
    {
      "metadata": {
        "id": "fHCnnpkalvNv",
        "colab_type": "code",
        "colab": {
          "autoexec": {
            "startup": false,
            "wait_interval": 0
          },
          "base_uri": "https://localhost:8080/",
          "height": 90
        },
        "outputId": "d3b82576-b17e-4962-e9a8-5f16deee3060",
        "executionInfo": {
          "status": "ok",
          "timestamp": 1527910957231,
          "user_tz": 240,
          "elapsed": 348,
          "user": {
            "displayName": "",
            "photoUrl": "",
            "userId": ""
          }
        }
      },
      "cell_type": "code",
      "source": [
        "#calculate the mean of data1 column by key1\n",
        "grouped = df['data1'].groupby(df['key1'])\n",
        "grouped.mean()"
      ],
      "execution_count": 47,
      "outputs": [
        {
          "output_type": "execute_result",
          "data": {
            "text/plain": [
              "key1\n",
              "a    0.388807\n",
              "b   -1.630647\n",
              "Name: data1, dtype: float64"
            ]
          },
          "metadata": {
            "tags": []
          },
          "execution_count": 47
        }
      ]
    },
    {
      "metadata": {
        "id": "vsMRCmA_uyxW",
        "colab_type": "text"
      },
      "cell_type": "markdown",
      "source": [
        "# Slicing DataFrame"
      ]
    },
    {
      "metadata": {
        "id": "2-AEj44zlzw8",
        "colab_type": "text"
      },
      "cell_type": "markdown",
      "source": [
        "Now, let's see how to slice the data frame.\n"
      ]
    },
    {
      "metadata": {
        "id": "BjhqQRnTl0aN",
        "colab_type": "code",
        "colab": {
          "autoexec": {
            "startup": false,
            "wait_interval": 0
          },
          "base_uri": "https://localhost:8080/",
          "height": 234
        },
        "outputId": "37088628-6993-4961-ff6f-5283957bf5e0",
        "executionInfo": {
          "status": "ok",
          "timestamp": 1527910991290,
          "user_tz": 240,
          "elapsed": 308,
          "user": {
            "displayName": "",
            "photoUrl": "",
            "userId": ""
          }
        }
      },
      "cell_type": "code",
      "source": [
        "dates = pd.date_range('20130101',periods=6)\n",
        "df = pd.DataFrame(np.random.randn(6,4),index=dates,columns=list('ABCD'))\n",
        "df"
      ],
      "execution_count": 48,
      "outputs": [
        {
          "output_type": "execute_result",
          "data": {
            "text/html": [
              "<div>\n",
              "<style scoped>\n",
              "    .dataframe tbody tr th:only-of-type {\n",
              "        vertical-align: middle;\n",
              "    }\n",
              "\n",
              "    .dataframe tbody tr th {\n",
              "        vertical-align: top;\n",
              "    }\n",
              "\n",
              "    .dataframe thead th {\n",
              "        text-align: right;\n",
              "    }\n",
              "</style>\n",
              "<table border=\"1\" class=\"dataframe\">\n",
              "  <thead>\n",
              "    <tr style=\"text-align: right;\">\n",
              "      <th></th>\n",
              "      <th>A</th>\n",
              "      <th>B</th>\n",
              "      <th>C</th>\n",
              "      <th>D</th>\n",
              "    </tr>\n",
              "  </thead>\n",
              "  <tbody>\n",
              "    <tr>\n",
              "      <th>2013-01-01</th>\n",
              "      <td>-0.686589</td>\n",
              "      <td>0.014873</td>\n",
              "      <td>-0.375666</td>\n",
              "      <td>-0.038224</td>\n",
              "    </tr>\n",
              "    <tr>\n",
              "      <th>2013-01-02</th>\n",
              "      <td>0.367974</td>\n",
              "      <td>-0.044724</td>\n",
              "      <td>-0.302375</td>\n",
              "      <td>-2.224404</td>\n",
              "    </tr>\n",
              "    <tr>\n",
              "      <th>2013-01-03</th>\n",
              "      <td>0.724006</td>\n",
              "      <td>0.359003</td>\n",
              "      <td>1.076121</td>\n",
              "      <td>0.192141</td>\n",
              "    </tr>\n",
              "    <tr>\n",
              "      <th>2013-01-04</th>\n",
              "      <td>0.852926</td>\n",
              "      <td>0.018357</td>\n",
              "      <td>0.428304</td>\n",
              "      <td>0.996278</td>\n",
              "    </tr>\n",
              "    <tr>\n",
              "      <th>2013-01-05</th>\n",
              "      <td>-0.491150</td>\n",
              "      <td>0.712678</td>\n",
              "      <td>1.113340</td>\n",
              "      <td>-2.153675</td>\n",
              "    </tr>\n",
              "    <tr>\n",
              "      <th>2013-01-06</th>\n",
              "      <td>-0.416111</td>\n",
              "      <td>-1.070897</td>\n",
              "      <td>0.221139</td>\n",
              "      <td>-1.123057</td>\n",
              "    </tr>\n",
              "  </tbody>\n",
              "</table>\n",
              "</div>"
            ],
            "text/plain": [
              "                   A         B         C         D\n",
              "2013-01-01 -0.686589  0.014873 -0.375666 -0.038224\n",
              "2013-01-02  0.367974 -0.044724 -0.302375 -2.224404\n",
              "2013-01-03  0.724006  0.359003  1.076121  0.192141\n",
              "2013-01-04  0.852926  0.018357  0.428304  0.996278\n",
              "2013-01-05 -0.491150  0.712678  1.113340 -2.153675\n",
              "2013-01-06 -0.416111 -1.070897  0.221139 -1.123057"
            ]
          },
          "metadata": {
            "tags": []
          },
          "execution_count": 48
        }
      ]
    },
    {
      "metadata": {
        "id": "LZYT3ryZl8-P",
        "colab_type": "code",
        "colab": {
          "autoexec": {
            "startup": false,
            "wait_interval": 0
          },
          "base_uri": "https://localhost:8080/",
          "height": 141
        },
        "outputId": "58b279f1-4fa3-47dc-f794-fdae0a63f635",
        "executionInfo": {
          "status": "ok",
          "timestamp": 1527911014100,
          "user_tz": 240,
          "elapsed": 758,
          "user": {
            "displayName": "",
            "photoUrl": "",
            "userId": ""
          }
        }
      },
      "cell_type": "code",
      "source": [
        "#get first n rows from the data frame\n",
        "df[:3]"
      ],
      "execution_count": 49,
      "outputs": [
        {
          "output_type": "execute_result",
          "data": {
            "text/html": [
              "<div>\n",
              "<style scoped>\n",
              "    .dataframe tbody tr th:only-of-type {\n",
              "        vertical-align: middle;\n",
              "    }\n",
              "\n",
              "    .dataframe tbody tr th {\n",
              "        vertical-align: top;\n",
              "    }\n",
              "\n",
              "    .dataframe thead th {\n",
              "        text-align: right;\n",
              "    }\n",
              "</style>\n",
              "<table border=\"1\" class=\"dataframe\">\n",
              "  <thead>\n",
              "    <tr style=\"text-align: right;\">\n",
              "      <th></th>\n",
              "      <th>A</th>\n",
              "      <th>B</th>\n",
              "      <th>C</th>\n",
              "      <th>D</th>\n",
              "    </tr>\n",
              "  </thead>\n",
              "  <tbody>\n",
              "    <tr>\n",
              "      <th>2013-01-01</th>\n",
              "      <td>-0.686589</td>\n",
              "      <td>0.014873</td>\n",
              "      <td>-0.375666</td>\n",
              "      <td>-0.038224</td>\n",
              "    </tr>\n",
              "    <tr>\n",
              "      <th>2013-01-02</th>\n",
              "      <td>0.367974</td>\n",
              "      <td>-0.044724</td>\n",
              "      <td>-0.302375</td>\n",
              "      <td>-2.224404</td>\n",
              "    </tr>\n",
              "    <tr>\n",
              "      <th>2013-01-03</th>\n",
              "      <td>0.724006</td>\n",
              "      <td>0.359003</td>\n",
              "      <td>1.076121</td>\n",
              "      <td>0.192141</td>\n",
              "    </tr>\n",
              "  </tbody>\n",
              "</table>\n",
              "</div>"
            ],
            "text/plain": [
              "                   A         B         C         D\n",
              "2013-01-01 -0.686589  0.014873 -0.375666 -0.038224\n",
              "2013-01-02  0.367974 -0.044724 -0.302375 -2.224404\n",
              "2013-01-03  0.724006  0.359003  1.076121  0.192141"
            ]
          },
          "metadata": {
            "tags": []
          },
          "execution_count": 49
        }
      ]
    },
    {
      "metadata": {
        "id": "tagJXG1UmAC4",
        "colab_type": "code",
        "colab": {
          "autoexec": {
            "startup": false,
            "wait_interval": 0
          },
          "base_uri": "https://localhost:8080/",
          "height": 172
        },
        "outputId": "241dc2e9-923e-4f9b-df3f-41d2f3550277",
        "executionInfo": {
          "status": "ok",
          "timestamp": 1527911026337,
          "user_tz": 240,
          "elapsed": 319,
          "user": {
            "displayName": "",
            "photoUrl": "",
            "userId": ""
          }
        }
      },
      "cell_type": "code",
      "source": [
        "#slice based on date range\n",
        "df['20130101':'20130104']"
      ],
      "execution_count": 50,
      "outputs": [
        {
          "output_type": "execute_result",
          "data": {
            "text/html": [
              "<div>\n",
              "<style scoped>\n",
              "    .dataframe tbody tr th:only-of-type {\n",
              "        vertical-align: middle;\n",
              "    }\n",
              "\n",
              "    .dataframe tbody tr th {\n",
              "        vertical-align: top;\n",
              "    }\n",
              "\n",
              "    .dataframe thead th {\n",
              "        text-align: right;\n",
              "    }\n",
              "</style>\n",
              "<table border=\"1\" class=\"dataframe\">\n",
              "  <thead>\n",
              "    <tr style=\"text-align: right;\">\n",
              "      <th></th>\n",
              "      <th>A</th>\n",
              "      <th>B</th>\n",
              "      <th>C</th>\n",
              "      <th>D</th>\n",
              "    </tr>\n",
              "  </thead>\n",
              "  <tbody>\n",
              "    <tr>\n",
              "      <th>2013-01-01</th>\n",
              "      <td>-0.686589</td>\n",
              "      <td>0.014873</td>\n",
              "      <td>-0.375666</td>\n",
              "      <td>-0.038224</td>\n",
              "    </tr>\n",
              "    <tr>\n",
              "      <th>2013-01-02</th>\n",
              "      <td>0.367974</td>\n",
              "      <td>-0.044724</td>\n",
              "      <td>-0.302375</td>\n",
              "      <td>-2.224404</td>\n",
              "    </tr>\n",
              "    <tr>\n",
              "      <th>2013-01-03</th>\n",
              "      <td>0.724006</td>\n",
              "      <td>0.359003</td>\n",
              "      <td>1.076121</td>\n",
              "      <td>0.192141</td>\n",
              "    </tr>\n",
              "    <tr>\n",
              "      <th>2013-01-04</th>\n",
              "      <td>0.852926</td>\n",
              "      <td>0.018357</td>\n",
              "      <td>0.428304</td>\n",
              "      <td>0.996278</td>\n",
              "    </tr>\n",
              "  </tbody>\n",
              "</table>\n",
              "</div>"
            ],
            "text/plain": [
              "                   A         B         C         D\n",
              "2013-01-01 -0.686589  0.014873 -0.375666 -0.038224\n",
              "2013-01-02  0.367974 -0.044724 -0.302375 -2.224404\n",
              "2013-01-03  0.724006  0.359003  1.076121  0.192141\n",
              "2013-01-04  0.852926  0.018357  0.428304  0.996278"
            ]
          },
          "metadata": {
            "tags": []
          },
          "execution_count": 50
        }
      ]
    },
    {
      "metadata": {
        "id": "c-IA3j6xmD-b",
        "colab_type": "code",
        "colab": {
          "autoexec": {
            "startup": false,
            "wait_interval": 0
          },
          "base_uri": "https://localhost:8080/",
          "height": 234
        },
        "outputId": "14acef76-14d4-47d2-b324-a5305d34a1fc",
        "executionInfo": {
          "status": "ok",
          "timestamp": 1527911046397,
          "user_tz": 240,
          "elapsed": 438,
          "user": {
            "displayName": "",
            "photoUrl": "",
            "userId": ""
          }
        }
      },
      "cell_type": "code",
      "source": [
        "#slicing based on column names\n",
        "df.loc[:,['A','B']]"
      ],
      "execution_count": 51,
      "outputs": [
        {
          "output_type": "execute_result",
          "data": {
            "text/html": [
              "<div>\n",
              "<style scoped>\n",
              "    .dataframe tbody tr th:only-of-type {\n",
              "        vertical-align: middle;\n",
              "    }\n",
              "\n",
              "    .dataframe tbody tr th {\n",
              "        vertical-align: top;\n",
              "    }\n",
              "\n",
              "    .dataframe thead th {\n",
              "        text-align: right;\n",
              "    }\n",
              "</style>\n",
              "<table border=\"1\" class=\"dataframe\">\n",
              "  <thead>\n",
              "    <tr style=\"text-align: right;\">\n",
              "      <th></th>\n",
              "      <th>A</th>\n",
              "      <th>B</th>\n",
              "    </tr>\n",
              "  </thead>\n",
              "  <tbody>\n",
              "    <tr>\n",
              "      <th>2013-01-01</th>\n",
              "      <td>-0.686589</td>\n",
              "      <td>0.014873</td>\n",
              "    </tr>\n",
              "    <tr>\n",
              "      <th>2013-01-02</th>\n",
              "      <td>0.367974</td>\n",
              "      <td>-0.044724</td>\n",
              "    </tr>\n",
              "    <tr>\n",
              "      <th>2013-01-03</th>\n",
              "      <td>0.724006</td>\n",
              "      <td>0.359003</td>\n",
              "    </tr>\n",
              "    <tr>\n",
              "      <th>2013-01-04</th>\n",
              "      <td>0.852926</td>\n",
              "      <td>0.018357</td>\n",
              "    </tr>\n",
              "    <tr>\n",
              "      <th>2013-01-05</th>\n",
              "      <td>-0.491150</td>\n",
              "      <td>0.712678</td>\n",
              "    </tr>\n",
              "    <tr>\n",
              "      <th>2013-01-06</th>\n",
              "      <td>-0.416111</td>\n",
              "      <td>-1.070897</td>\n",
              "    </tr>\n",
              "  </tbody>\n",
              "</table>\n",
              "</div>"
            ],
            "text/plain": [
              "                   A         B\n",
              "2013-01-01 -0.686589  0.014873\n",
              "2013-01-02  0.367974 -0.044724\n",
              "2013-01-03  0.724006  0.359003\n",
              "2013-01-04  0.852926  0.018357\n",
              "2013-01-05 -0.491150  0.712678\n",
              "2013-01-06 -0.416111 -1.070897"
            ]
          },
          "metadata": {
            "tags": []
          },
          "execution_count": 51
        }
      ]
    },
    {
      "metadata": {
        "id": "BCXHmxB7mJZ_",
        "colab_type": "code",
        "colab": {
          "autoexec": {
            "startup": false,
            "wait_interval": 0
          },
          "base_uri": "https://localhost:8080/",
          "height": 110
        },
        "outputId": "839f0782-5751-4117-bd73-6e6d7914d21c",
        "executionInfo": {
          "status": "ok",
          "timestamp": 1527911064613,
          "user_tz": 240,
          "elapsed": 318,
          "user": {
            "displayName": "",
            "photoUrl": "",
            "userId": ""
          }
        }
      },
      "cell_type": "code",
      "source": [
        "#slicing based on both row index labels and column names\n",
        "df.loc['20130102':'20130103',['A','B']]"
      ],
      "execution_count": 52,
      "outputs": [
        {
          "output_type": "execute_result",
          "data": {
            "text/html": [
              "<div>\n",
              "<style scoped>\n",
              "    .dataframe tbody tr th:only-of-type {\n",
              "        vertical-align: middle;\n",
              "    }\n",
              "\n",
              "    .dataframe tbody tr th {\n",
              "        vertical-align: top;\n",
              "    }\n",
              "\n",
              "    .dataframe thead th {\n",
              "        text-align: right;\n",
              "    }\n",
              "</style>\n",
              "<table border=\"1\" class=\"dataframe\">\n",
              "  <thead>\n",
              "    <tr style=\"text-align: right;\">\n",
              "      <th></th>\n",
              "      <th>A</th>\n",
              "      <th>B</th>\n",
              "    </tr>\n",
              "  </thead>\n",
              "  <tbody>\n",
              "    <tr>\n",
              "      <th>2013-01-02</th>\n",
              "      <td>0.367974</td>\n",
              "      <td>-0.044724</td>\n",
              "    </tr>\n",
              "    <tr>\n",
              "      <th>2013-01-03</th>\n",
              "      <td>0.724006</td>\n",
              "      <td>0.359003</td>\n",
              "    </tr>\n",
              "  </tbody>\n",
              "</table>\n",
              "</div>"
            ],
            "text/plain": [
              "                   A         B\n",
              "2013-01-02  0.367974 -0.044724\n",
              "2013-01-03  0.724006  0.359003"
            ]
          },
          "metadata": {
            "tags": []
          },
          "execution_count": 52
        }
      ]
    },
    {
      "metadata": {
        "id": "56Kd98mxmRXY",
        "colab_type": "code",
        "colab": {
          "autoexec": {
            "startup": false,
            "wait_interval": 0
          },
          "base_uri": "https://localhost:8080/",
          "height": 110
        },
        "outputId": "a0e6f912-e7ca-402b-8467-5be7d0b5b5a2",
        "executionInfo": {
          "status": "ok",
          "timestamp": 1527911118367,
          "user_tz": 240,
          "elapsed": 319,
          "user": {
            "displayName": "",
            "photoUrl": "",
            "userId": ""
          }
        }
      },
      "cell_type": "code",
      "source": [
        "#slicing based on index of columns\n",
        "df.iloc[3] #returns 4th row (index is 3rd)\n",
        "\n",
        "\n",
        "#returns a specific range of rows\n",
        "df.iloc[2:4, 0:2]"
      ],
      "execution_count": 55,
      "outputs": [
        {
          "output_type": "execute_result",
          "data": {
            "text/html": [
              "<div>\n",
              "<style scoped>\n",
              "    .dataframe tbody tr th:only-of-type {\n",
              "        vertical-align: middle;\n",
              "    }\n",
              "\n",
              "    .dataframe tbody tr th {\n",
              "        vertical-align: top;\n",
              "    }\n",
              "\n",
              "    .dataframe thead th {\n",
              "        text-align: right;\n",
              "    }\n",
              "</style>\n",
              "<table border=\"1\" class=\"dataframe\">\n",
              "  <thead>\n",
              "    <tr style=\"text-align: right;\">\n",
              "      <th></th>\n",
              "      <th>A</th>\n",
              "      <th>B</th>\n",
              "    </tr>\n",
              "  </thead>\n",
              "  <tbody>\n",
              "    <tr>\n",
              "      <th>2013-01-03</th>\n",
              "      <td>0.724006</td>\n",
              "      <td>0.359003</td>\n",
              "    </tr>\n",
              "    <tr>\n",
              "      <th>2013-01-04</th>\n",
              "      <td>0.852926</td>\n",
              "      <td>0.018357</td>\n",
              "    </tr>\n",
              "  </tbody>\n",
              "</table>\n",
              "</div>"
            ],
            "text/plain": [
              "                   A         B\n",
              "2013-01-03  0.724006  0.359003\n",
              "2013-01-04  0.852926  0.018357"
            ]
          },
          "metadata": {
            "tags": []
          },
          "execution_count": 55
        }
      ]
    },
    {
      "metadata": {
        "id": "Gdi2Zofpmbw7",
        "colab_type": "code",
        "colab": {
          "autoexec": {
            "startup": false,
            "wait_interval": 0
          },
          "base_uri": "https://localhost:8080/",
          "height": 110
        },
        "outputId": "3680bea5-b8d9-45e8-fc0a-f6e264d5a867",
        "executionInfo": {
          "status": "ok",
          "timestamp": 1527911139700,
          "user_tz": 240,
          "elapsed": 299,
          "user": {
            "displayName": "",
            "photoUrl": "",
            "userId": ""
          }
        }
      },
      "cell_type": "code",
      "source": [
        "#returns specific rows and columns using lists containing columns or row indexes\n",
        "df.iloc[[1,5],[0,2]] "
      ],
      "execution_count": 56,
      "outputs": [
        {
          "output_type": "execute_result",
          "data": {
            "text/html": [
              "<div>\n",
              "<style scoped>\n",
              "    .dataframe tbody tr th:only-of-type {\n",
              "        vertical-align: middle;\n",
              "    }\n",
              "\n",
              "    .dataframe tbody tr th {\n",
              "        vertical-align: top;\n",
              "    }\n",
              "\n",
              "    .dataframe thead th {\n",
              "        text-align: right;\n",
              "    }\n",
              "</style>\n",
              "<table border=\"1\" class=\"dataframe\">\n",
              "  <thead>\n",
              "    <tr style=\"text-align: right;\">\n",
              "      <th></th>\n",
              "      <th>A</th>\n",
              "      <th>C</th>\n",
              "    </tr>\n",
              "  </thead>\n",
              "  <tbody>\n",
              "    <tr>\n",
              "      <th>2013-01-02</th>\n",
              "      <td>0.367974</td>\n",
              "      <td>-0.302375</td>\n",
              "    </tr>\n",
              "    <tr>\n",
              "      <th>2013-01-06</th>\n",
              "      <td>-0.416111</td>\n",
              "      <td>0.221139</td>\n",
              "    </tr>\n",
              "  </tbody>\n",
              "</table>\n",
              "</div>"
            ],
            "text/plain": [
              "                   A         C\n",
              "2013-01-02  0.367974 -0.302375\n",
              "2013-01-06 -0.416111  0.221139"
            ]
          },
          "metadata": {
            "tags": []
          },
          "execution_count": 56
        }
      ]
    },
    {
      "metadata": {
        "id": "GcZe5I8hmeEO",
        "colab_type": "code",
        "colab": {
          "autoexec": {
            "startup": false,
            "wait_interval": 0
          },
          "base_uri": "https://localhost:8080/",
          "height": 48
        },
        "outputId": "f348e3ba-71f2-4648-d9ac-75639d6b75fb",
        "executionInfo": {
          "status": "ok",
          "timestamp": 1527911155918,
          "user_tz": 240,
          "elapsed": 346,
          "user": {
            "displayName": "",
            "photoUrl": "",
            "userId": ""
          }
        }
      },
      "cell_type": "code",
      "source": [
        "df[df.A > 1]\n"
      ],
      "execution_count": 57,
      "outputs": [
        {
          "output_type": "execute_result",
          "data": {
            "text/html": [
              "<div>\n",
              "<style scoped>\n",
              "    .dataframe tbody tr th:only-of-type {\n",
              "        vertical-align: middle;\n",
              "    }\n",
              "\n",
              "    .dataframe tbody tr th {\n",
              "        vertical-align: top;\n",
              "    }\n",
              "\n",
              "    .dataframe thead th {\n",
              "        text-align: right;\n",
              "    }\n",
              "</style>\n",
              "<table border=\"1\" class=\"dataframe\">\n",
              "  <thead>\n",
              "    <tr style=\"text-align: right;\">\n",
              "      <th></th>\n",
              "      <th>A</th>\n",
              "      <th>B</th>\n",
              "      <th>C</th>\n",
              "      <th>D</th>\n",
              "    </tr>\n",
              "  </thead>\n",
              "  <tbody>\n",
              "  </tbody>\n",
              "</table>\n",
              "</div>"
            ],
            "text/plain": [
              "Empty DataFrame\n",
              "Columns: [A, B, C, D]\n",
              "Index: []"
            ]
          },
          "metadata": {
            "tags": []
          },
          "execution_count": 57
        }
      ]
    },
    {
      "metadata": {
        "id": "SFXiFRV5mhHH",
        "colab_type": "code",
        "colab": {
          "autoexec": {
            "startup": false,
            "wait_interval": 0
          },
          "base_uri": "https://localhost:8080/",
          "height": 234
        },
        "outputId": "691cd5e0-176f-4a89-d8eb-819dfb0273d9",
        "executionInfo": {
          "status": "ok",
          "timestamp": 1527911172530,
          "user_tz": 240,
          "elapsed": 266,
          "user": {
            "displayName": "",
            "photoUrl": "",
            "userId": ""
          }
        }
      },
      "cell_type": "code",
      "source": [
        "#we can copy the data set\n",
        "df2 = df.copy()\n",
        "df2['E']=['one', 'one','two','three','four','three']\n",
        "df2"
      ],
      "execution_count": 58,
      "outputs": [
        {
          "output_type": "execute_result",
          "data": {
            "text/html": [
              "<div>\n",
              "<style scoped>\n",
              "    .dataframe tbody tr th:only-of-type {\n",
              "        vertical-align: middle;\n",
              "    }\n",
              "\n",
              "    .dataframe tbody tr th {\n",
              "        vertical-align: top;\n",
              "    }\n",
              "\n",
              "    .dataframe thead th {\n",
              "        text-align: right;\n",
              "    }\n",
              "</style>\n",
              "<table border=\"1\" class=\"dataframe\">\n",
              "  <thead>\n",
              "    <tr style=\"text-align: right;\">\n",
              "      <th></th>\n",
              "      <th>A</th>\n",
              "      <th>B</th>\n",
              "      <th>C</th>\n",
              "      <th>D</th>\n",
              "      <th>E</th>\n",
              "    </tr>\n",
              "  </thead>\n",
              "  <tbody>\n",
              "    <tr>\n",
              "      <th>2013-01-01</th>\n",
              "      <td>-0.686589</td>\n",
              "      <td>0.014873</td>\n",
              "      <td>-0.375666</td>\n",
              "      <td>-0.038224</td>\n",
              "      <td>one</td>\n",
              "    </tr>\n",
              "    <tr>\n",
              "      <th>2013-01-02</th>\n",
              "      <td>0.367974</td>\n",
              "      <td>-0.044724</td>\n",
              "      <td>-0.302375</td>\n",
              "      <td>-2.224404</td>\n",
              "      <td>one</td>\n",
              "    </tr>\n",
              "    <tr>\n",
              "      <th>2013-01-03</th>\n",
              "      <td>0.724006</td>\n",
              "      <td>0.359003</td>\n",
              "      <td>1.076121</td>\n",
              "      <td>0.192141</td>\n",
              "      <td>two</td>\n",
              "    </tr>\n",
              "    <tr>\n",
              "      <th>2013-01-04</th>\n",
              "      <td>0.852926</td>\n",
              "      <td>0.018357</td>\n",
              "      <td>0.428304</td>\n",
              "      <td>0.996278</td>\n",
              "      <td>three</td>\n",
              "    </tr>\n",
              "    <tr>\n",
              "      <th>2013-01-05</th>\n",
              "      <td>-0.491150</td>\n",
              "      <td>0.712678</td>\n",
              "      <td>1.113340</td>\n",
              "      <td>-2.153675</td>\n",
              "      <td>four</td>\n",
              "    </tr>\n",
              "    <tr>\n",
              "      <th>2013-01-06</th>\n",
              "      <td>-0.416111</td>\n",
              "      <td>-1.070897</td>\n",
              "      <td>0.221139</td>\n",
              "      <td>-1.123057</td>\n",
              "      <td>three</td>\n",
              "    </tr>\n",
              "  </tbody>\n",
              "</table>\n",
              "</div>"
            ],
            "text/plain": [
              "                   A         B         C         D      E\n",
              "2013-01-01 -0.686589  0.014873 -0.375666 -0.038224    one\n",
              "2013-01-02  0.367974 -0.044724 -0.302375 -2.224404    one\n",
              "2013-01-03  0.724006  0.359003  1.076121  0.192141    two\n",
              "2013-01-04  0.852926  0.018357  0.428304  0.996278  three\n",
              "2013-01-05 -0.491150  0.712678  1.113340 -2.153675   four\n",
              "2013-01-06 -0.416111 -1.070897  0.221139 -1.123057  three"
            ]
          },
          "metadata": {
            "tags": []
          },
          "execution_count": 58
        }
      ]
    },
    {
      "metadata": {
        "id": "2FjTTe-3mxog",
        "colab_type": "code",
        "colab": {
          "autoexec": {
            "startup": false,
            "wait_interval": 0
          },
          "base_uri": "https://localhost:8080/",
          "height": 234
        },
        "outputId": "94a81b7b-8bd5-40cf-b0a8-a7be9333e49c",
        "executionInfo": {
          "status": "ok",
          "timestamp": 1527911233436,
          "user_tz": 240,
          "elapsed": 595,
          "user": {
            "displayName": "",
            "photoUrl": "",
            "userId": ""
          }
        }
      },
      "cell_type": "code",
      "source": [
        "#we can copy the data set\n",
        "df2 = df.copy()\n",
        "df2['E']=['one', 'one','two','three','four','three']\n",
        "df2"
      ],
      "execution_count": 59,
      "outputs": [
        {
          "output_type": "execute_result",
          "data": {
            "text/html": [
              "<div>\n",
              "<style scoped>\n",
              "    .dataframe tbody tr th:only-of-type {\n",
              "        vertical-align: middle;\n",
              "    }\n",
              "\n",
              "    .dataframe tbody tr th {\n",
              "        vertical-align: top;\n",
              "    }\n",
              "\n",
              "    .dataframe thead th {\n",
              "        text-align: right;\n",
              "    }\n",
              "</style>\n",
              "<table border=\"1\" class=\"dataframe\">\n",
              "  <thead>\n",
              "    <tr style=\"text-align: right;\">\n",
              "      <th></th>\n",
              "      <th>A</th>\n",
              "      <th>B</th>\n",
              "      <th>C</th>\n",
              "      <th>D</th>\n",
              "      <th>E</th>\n",
              "    </tr>\n",
              "  </thead>\n",
              "  <tbody>\n",
              "    <tr>\n",
              "      <th>2013-01-01</th>\n",
              "      <td>-0.686589</td>\n",
              "      <td>0.014873</td>\n",
              "      <td>-0.375666</td>\n",
              "      <td>-0.038224</td>\n",
              "      <td>one</td>\n",
              "    </tr>\n",
              "    <tr>\n",
              "      <th>2013-01-02</th>\n",
              "      <td>0.367974</td>\n",
              "      <td>-0.044724</td>\n",
              "      <td>-0.302375</td>\n",
              "      <td>-2.224404</td>\n",
              "      <td>one</td>\n",
              "    </tr>\n",
              "    <tr>\n",
              "      <th>2013-01-03</th>\n",
              "      <td>0.724006</td>\n",
              "      <td>0.359003</td>\n",
              "      <td>1.076121</td>\n",
              "      <td>0.192141</td>\n",
              "      <td>two</td>\n",
              "    </tr>\n",
              "    <tr>\n",
              "      <th>2013-01-04</th>\n",
              "      <td>0.852926</td>\n",
              "      <td>0.018357</td>\n",
              "      <td>0.428304</td>\n",
              "      <td>0.996278</td>\n",
              "      <td>three</td>\n",
              "    </tr>\n",
              "    <tr>\n",
              "      <th>2013-01-05</th>\n",
              "      <td>-0.491150</td>\n",
              "      <td>0.712678</td>\n",
              "      <td>1.113340</td>\n",
              "      <td>-2.153675</td>\n",
              "      <td>four</td>\n",
              "    </tr>\n",
              "    <tr>\n",
              "      <th>2013-01-06</th>\n",
              "      <td>-0.416111</td>\n",
              "      <td>-1.070897</td>\n",
              "      <td>0.221139</td>\n",
              "      <td>-1.123057</td>\n",
              "      <td>three</td>\n",
              "    </tr>\n",
              "  </tbody>\n",
              "</table>\n",
              "</div>"
            ],
            "text/plain": [
              "                   A         B         C         D      E\n",
              "2013-01-01 -0.686589  0.014873 -0.375666 -0.038224    one\n",
              "2013-01-02  0.367974 -0.044724 -0.302375 -2.224404    one\n",
              "2013-01-03  0.724006  0.359003  1.076121  0.192141    two\n",
              "2013-01-04  0.852926  0.018357  0.428304  0.996278  three\n",
              "2013-01-05 -0.491150  0.712678  1.113340 -2.153675   four\n",
              "2013-01-06 -0.416111 -1.070897  0.221139 -1.123057  three"
            ]
          },
          "metadata": {
            "tags": []
          },
          "execution_count": 59
        }
      ]
    },
    {
      "metadata": {
        "id": "5IJ-v4TDm3Qd",
        "colab_type": "code",
        "colab": {
          "autoexec": {
            "startup": false,
            "wait_interval": 0
          },
          "base_uri": "https://localhost:8080/",
          "height": 110
        },
        "outputId": "c559c23c-0289-417b-fe41-83f983ddd4b9",
        "executionInfo": {
          "status": "ok",
          "timestamp": 1527911251877,
          "user_tz": 240,
          "elapsed": 293,
          "user": {
            "displayName": "",
            "photoUrl": "",
            "userId": ""
          }
        }
      },
      "cell_type": "code",
      "source": [
        "#select rows based on column values\n",
        "df2[df2['E'].isin(['two','four'])]"
      ],
      "execution_count": 60,
      "outputs": [
        {
          "output_type": "execute_result",
          "data": {
            "text/html": [
              "<div>\n",
              "<style scoped>\n",
              "    .dataframe tbody tr th:only-of-type {\n",
              "        vertical-align: middle;\n",
              "    }\n",
              "\n",
              "    .dataframe tbody tr th {\n",
              "        vertical-align: top;\n",
              "    }\n",
              "\n",
              "    .dataframe thead th {\n",
              "        text-align: right;\n",
              "    }\n",
              "</style>\n",
              "<table border=\"1\" class=\"dataframe\">\n",
              "  <thead>\n",
              "    <tr style=\"text-align: right;\">\n",
              "      <th></th>\n",
              "      <th>A</th>\n",
              "      <th>B</th>\n",
              "      <th>C</th>\n",
              "      <th>D</th>\n",
              "      <th>E</th>\n",
              "    </tr>\n",
              "  </thead>\n",
              "  <tbody>\n",
              "    <tr>\n",
              "      <th>2013-01-03</th>\n",
              "      <td>0.724006</td>\n",
              "      <td>0.359003</td>\n",
              "      <td>1.076121</td>\n",
              "      <td>0.192141</td>\n",
              "      <td>two</td>\n",
              "    </tr>\n",
              "    <tr>\n",
              "      <th>2013-01-05</th>\n",
              "      <td>-0.491150</td>\n",
              "      <td>0.712678</td>\n",
              "      <td>1.113340</td>\n",
              "      <td>-2.153675</td>\n",
              "      <td>four</td>\n",
              "    </tr>\n",
              "  </tbody>\n",
              "</table>\n",
              "</div>"
            ],
            "text/plain": [
              "                   A         B         C         D     E\n",
              "2013-01-03  0.724006  0.359003  1.076121  0.192141   two\n",
              "2013-01-05 -0.491150  0.712678  1.113340 -2.153675  four"
            ]
          },
          "metadata": {
            "tags": []
          },
          "execution_count": 60
        }
      ]
    },
    {
      "metadata": {
        "id": "ViODgK6vm6Ul",
        "colab_type": "code",
        "colab": {
          "autoexec": {
            "startup": false,
            "wait_interval": 0
          },
          "base_uri": "https://localhost:8080/",
          "height": 172
        },
        "outputId": "be56f14f-9aac-41e2-d5e1-f9ba24e72216",
        "executionInfo": {
          "status": "ok",
          "timestamp": 1527911264977,
          "user_tz": 240,
          "elapsed": 302,
          "user": {
            "displayName": "",
            "photoUrl": "",
            "userId": ""
          }
        }
      },
      "cell_type": "code",
      "source": [
        "#select all rows except those with two and four\n",
        "df2[~df2['E'].isin(['two','four'])]"
      ],
      "execution_count": 61,
      "outputs": [
        {
          "output_type": "execute_result",
          "data": {
            "text/html": [
              "<div>\n",
              "<style scoped>\n",
              "    .dataframe tbody tr th:only-of-type {\n",
              "        vertical-align: middle;\n",
              "    }\n",
              "\n",
              "    .dataframe tbody tr th {\n",
              "        vertical-align: top;\n",
              "    }\n",
              "\n",
              "    .dataframe thead th {\n",
              "        text-align: right;\n",
              "    }\n",
              "</style>\n",
              "<table border=\"1\" class=\"dataframe\">\n",
              "  <thead>\n",
              "    <tr style=\"text-align: right;\">\n",
              "      <th></th>\n",
              "      <th>A</th>\n",
              "      <th>B</th>\n",
              "      <th>C</th>\n",
              "      <th>D</th>\n",
              "      <th>E</th>\n",
              "    </tr>\n",
              "  </thead>\n",
              "  <tbody>\n",
              "    <tr>\n",
              "      <th>2013-01-01</th>\n",
              "      <td>-0.686589</td>\n",
              "      <td>0.014873</td>\n",
              "      <td>-0.375666</td>\n",
              "      <td>-0.038224</td>\n",
              "      <td>one</td>\n",
              "    </tr>\n",
              "    <tr>\n",
              "      <th>2013-01-02</th>\n",
              "      <td>0.367974</td>\n",
              "      <td>-0.044724</td>\n",
              "      <td>-0.302375</td>\n",
              "      <td>-2.224404</td>\n",
              "      <td>one</td>\n",
              "    </tr>\n",
              "    <tr>\n",
              "      <th>2013-01-04</th>\n",
              "      <td>0.852926</td>\n",
              "      <td>0.018357</td>\n",
              "      <td>0.428304</td>\n",
              "      <td>0.996278</td>\n",
              "      <td>three</td>\n",
              "    </tr>\n",
              "    <tr>\n",
              "      <th>2013-01-06</th>\n",
              "      <td>-0.416111</td>\n",
              "      <td>-1.070897</td>\n",
              "      <td>0.221139</td>\n",
              "      <td>-1.123057</td>\n",
              "      <td>three</td>\n",
              "    </tr>\n",
              "  </tbody>\n",
              "</table>\n",
              "</div>"
            ],
            "text/plain": [
              "                   A         B         C         D      E\n",
              "2013-01-01 -0.686589  0.014873 -0.375666 -0.038224    one\n",
              "2013-01-02  0.367974 -0.044724 -0.302375 -2.224404    one\n",
              "2013-01-04  0.852926  0.018357  0.428304  0.996278  three\n",
              "2013-01-06 -0.416111 -1.070897  0.221139 -1.123057  three"
            ]
          },
          "metadata": {
            "tags": []
          },
          "execution_count": 61
        }
      ]
    },
    {
      "metadata": {
        "id": "BvCRWP_Vm-w7",
        "colab_type": "text"
      },
      "cell_type": "markdown",
      "source": [
        "We can also use a query method to select columns based on a criterion. Let's see how!\n",
        "\n"
      ]
    },
    {
      "metadata": {
        "id": "S_paBG_0m_gO",
        "colab_type": "code",
        "colab": {
          "autoexec": {
            "startup": false,
            "wait_interval": 0
          },
          "base_uri": "https://localhost:8080/",
          "height": 110
        },
        "outputId": "e7a2e33c-ea07-4ec1-c977-6474bfdd2ccb",
        "executionInfo": {
          "status": "ok",
          "timestamp": 1527911297893,
          "user_tz": 240,
          "elapsed": 516,
          "user": {
            "displayName": "",
            "photoUrl": "",
            "userId": ""
          }
        }
      },
      "cell_type": "code",
      "source": [
        "#list all columns where A is greater than C\n",
        "df.query('A > C')"
      ],
      "execution_count": 62,
      "outputs": [
        {
          "output_type": "execute_result",
          "data": {
            "text/html": [
              "<div>\n",
              "<style scoped>\n",
              "    .dataframe tbody tr th:only-of-type {\n",
              "        vertical-align: middle;\n",
              "    }\n",
              "\n",
              "    .dataframe tbody tr th {\n",
              "        vertical-align: top;\n",
              "    }\n",
              "\n",
              "    .dataframe thead th {\n",
              "        text-align: right;\n",
              "    }\n",
              "</style>\n",
              "<table border=\"1\" class=\"dataframe\">\n",
              "  <thead>\n",
              "    <tr style=\"text-align: right;\">\n",
              "      <th></th>\n",
              "      <th>A</th>\n",
              "      <th>B</th>\n",
              "      <th>C</th>\n",
              "      <th>D</th>\n",
              "    </tr>\n",
              "  </thead>\n",
              "  <tbody>\n",
              "    <tr>\n",
              "      <th>2013-01-02</th>\n",
              "      <td>0.367974</td>\n",
              "      <td>-0.044724</td>\n",
              "      <td>-0.302375</td>\n",
              "      <td>-2.224404</td>\n",
              "    </tr>\n",
              "    <tr>\n",
              "      <th>2013-01-04</th>\n",
              "      <td>0.852926</td>\n",
              "      <td>0.018357</td>\n",
              "      <td>0.428304</td>\n",
              "      <td>0.996278</td>\n",
              "    </tr>\n",
              "  </tbody>\n",
              "</table>\n",
              "</div>"
            ],
            "text/plain": [
              "                   A         B         C         D\n",
              "2013-01-02  0.367974 -0.044724 -0.302375 -2.224404\n",
              "2013-01-04  0.852926  0.018357  0.428304  0.996278"
            ]
          },
          "metadata": {
            "tags": []
          },
          "execution_count": 62
        }
      ]
    },
    {
      "metadata": {
        "id": "1gq0b5_RnEz6",
        "colab_type": "code",
        "colab": {
          "autoexec": {
            "startup": false,
            "wait_interval": 0
          },
          "base_uri": "https://localhost:8080/",
          "height": 172
        },
        "outputId": "cabfde43-8b16-4627-85e7-3b9cd14a68e2",
        "executionInfo": {
          "status": "ok",
          "timestamp": 1527911315360,
          "user_tz": 240,
          "elapsed": 367,
          "user": {
            "displayName": "",
            "photoUrl": "",
            "userId": ""
          }
        }
      },
      "cell_type": "code",
      "source": [
        "#using OR condition\n",
        "df.query('A < B | C > A')"
      ],
      "execution_count": 63,
      "outputs": [
        {
          "output_type": "execute_result",
          "data": {
            "text/html": [
              "<div>\n",
              "<style scoped>\n",
              "    .dataframe tbody tr th:only-of-type {\n",
              "        vertical-align: middle;\n",
              "    }\n",
              "\n",
              "    .dataframe tbody tr th {\n",
              "        vertical-align: top;\n",
              "    }\n",
              "\n",
              "    .dataframe thead th {\n",
              "        text-align: right;\n",
              "    }\n",
              "</style>\n",
              "<table border=\"1\" class=\"dataframe\">\n",
              "  <thead>\n",
              "    <tr style=\"text-align: right;\">\n",
              "      <th></th>\n",
              "      <th>A</th>\n",
              "      <th>B</th>\n",
              "      <th>C</th>\n",
              "      <th>D</th>\n",
              "    </tr>\n",
              "  </thead>\n",
              "  <tbody>\n",
              "    <tr>\n",
              "      <th>2013-01-01</th>\n",
              "      <td>-0.686589</td>\n",
              "      <td>0.014873</td>\n",
              "      <td>-0.375666</td>\n",
              "      <td>-0.038224</td>\n",
              "    </tr>\n",
              "    <tr>\n",
              "      <th>2013-01-03</th>\n",
              "      <td>0.724006</td>\n",
              "      <td>0.359003</td>\n",
              "      <td>1.076121</td>\n",
              "      <td>0.192141</td>\n",
              "    </tr>\n",
              "    <tr>\n",
              "      <th>2013-01-05</th>\n",
              "      <td>-0.491150</td>\n",
              "      <td>0.712678</td>\n",
              "      <td>1.113340</td>\n",
              "      <td>-2.153675</td>\n",
              "    </tr>\n",
              "    <tr>\n",
              "      <th>2013-01-06</th>\n",
              "      <td>-0.416111</td>\n",
              "      <td>-1.070897</td>\n",
              "      <td>0.221139</td>\n",
              "      <td>-1.123057</td>\n",
              "    </tr>\n",
              "  </tbody>\n",
              "</table>\n",
              "</div>"
            ],
            "text/plain": [
              "                   A         B         C         D\n",
              "2013-01-01 -0.686589  0.014873 -0.375666 -0.038224\n",
              "2013-01-03  0.724006  0.359003  1.076121  0.192141\n",
              "2013-01-05 -0.491150  0.712678  1.113340 -2.153675\n",
              "2013-01-06 -0.416111 -1.070897  0.221139 -1.123057"
            ]
          },
          "metadata": {
            "tags": []
          },
          "execution_count": 63
        }
      ]
    },
    {
      "metadata": {
        "id": "63abxwFPu6Se",
        "colab_type": "text"
      },
      "cell_type": "markdown",
      "source": [
        "# Pivot Tables"
      ]
    },
    {
      "metadata": {
        "id": "kh79-fdjnLR7",
        "colab_type": "text"
      },
      "cell_type": "markdown",
      "source": [
        "Pivot tables are extremely useful in analyzing data using a customized tabular format. I think, among other things, Excel is popular because of the pivot table option. It offers a super-quick way to analyze data."
      ]
    },
    {
      "metadata": {
        "id": "P55GiEqanH2g",
        "colab_type": "code",
        "colab": {
          "autoexec": {
            "startup": false,
            "wait_interval": 0
          },
          "base_uri": "https://localhost:8080/",
          "height": 326
        },
        "outputId": "56e3ad8c-8308-4239-ceac-40227a0e8b85",
        "executionInfo": {
          "status": "ok",
          "timestamp": 1527911455381,
          "user_tz": 240,
          "elapsed": 469,
          "user": {
            "displayName": "",
            "photoUrl": "",
            "userId": ""
          }
        }
      },
      "cell_type": "code",
      "source": [
        "#create a data frame\n",
        "data = pd.DataFrame({'group': ['a', 'a', 'a', 'b','b', 'b', 'c', 'c','c'],\n",
        "                 'ounces': [4, 3, 12, 6, 7.5, 8, 3, 5, 6]})\n",
        "data"
      ],
      "execution_count": 69,
      "outputs": [
        {
          "output_type": "execute_result",
          "data": {
            "text/html": [
              "<div>\n",
              "<style scoped>\n",
              "    .dataframe tbody tr th:only-of-type {\n",
              "        vertical-align: middle;\n",
              "    }\n",
              "\n",
              "    .dataframe tbody tr th {\n",
              "        vertical-align: top;\n",
              "    }\n",
              "\n",
              "    .dataframe thead th {\n",
              "        text-align: right;\n",
              "    }\n",
              "</style>\n",
              "<table border=\"1\" class=\"dataframe\">\n",
              "  <thead>\n",
              "    <tr style=\"text-align: right;\">\n",
              "      <th></th>\n",
              "      <th>group</th>\n",
              "      <th>ounces</th>\n",
              "    </tr>\n",
              "  </thead>\n",
              "  <tbody>\n",
              "    <tr>\n",
              "      <th>0</th>\n",
              "      <td>a</td>\n",
              "      <td>4.0</td>\n",
              "    </tr>\n",
              "    <tr>\n",
              "      <th>1</th>\n",
              "      <td>a</td>\n",
              "      <td>3.0</td>\n",
              "    </tr>\n",
              "    <tr>\n",
              "      <th>2</th>\n",
              "      <td>a</td>\n",
              "      <td>12.0</td>\n",
              "    </tr>\n",
              "    <tr>\n",
              "      <th>3</th>\n",
              "      <td>b</td>\n",
              "      <td>6.0</td>\n",
              "    </tr>\n",
              "    <tr>\n",
              "      <th>4</th>\n",
              "      <td>b</td>\n",
              "      <td>7.5</td>\n",
              "    </tr>\n",
              "    <tr>\n",
              "      <th>5</th>\n",
              "      <td>b</td>\n",
              "      <td>8.0</td>\n",
              "    </tr>\n",
              "    <tr>\n",
              "      <th>6</th>\n",
              "      <td>c</td>\n",
              "      <td>3.0</td>\n",
              "    </tr>\n",
              "    <tr>\n",
              "      <th>7</th>\n",
              "      <td>c</td>\n",
              "      <td>5.0</td>\n",
              "    </tr>\n",
              "    <tr>\n",
              "      <th>8</th>\n",
              "      <td>c</td>\n",
              "      <td>6.0</td>\n",
              "    </tr>\n",
              "  </tbody>\n",
              "</table>\n",
              "</div>"
            ],
            "text/plain": [
              "  group  ounces\n",
              "0     a     4.0\n",
              "1     a     3.0\n",
              "2     a    12.0\n",
              "3     b     6.0\n",
              "4     b     7.5\n",
              "5     b     8.0\n",
              "6     c     3.0\n",
              "7     c     5.0\n",
              "8     c     6.0"
            ]
          },
          "metadata": {
            "tags": []
          },
          "execution_count": 69
        }
      ]
    },
    {
      "metadata": {
        "id": "B3_ib6vanP49",
        "colab_type": "code",
        "colab": {
          "autoexec": {
            "startup": false,
            "wait_interval": 0
          },
          "base_uri": "https://localhost:8080/",
          "height": 172
        },
        "outputId": "e3b5f5e6-cd34-442c-9671-fd7138187e3e",
        "executionInfo": {
          "status": "ok",
          "timestamp": 1527911523553,
          "user_tz": 240,
          "elapsed": 405,
          "user": {
            "displayName": "",
            "photoUrl": "",
            "userId": ""
          }
        }
      },
      "cell_type": "code",
      "source": [
        "#calculate means of each group\n",
        "data.pivot_table(values='ounces',index='group',aggfunc=np.mean)"
      ],
      "execution_count": 71,
      "outputs": [
        {
          "output_type": "execute_result",
          "data": {
            "text/html": [
              "<div>\n",
              "<style scoped>\n",
              "    .dataframe tbody tr th:only-of-type {\n",
              "        vertical-align: middle;\n",
              "    }\n",
              "\n",
              "    .dataframe tbody tr th {\n",
              "        vertical-align: top;\n",
              "    }\n",
              "\n",
              "    .dataframe thead th {\n",
              "        text-align: right;\n",
              "    }\n",
              "</style>\n",
              "<table border=\"1\" class=\"dataframe\">\n",
              "  <thead>\n",
              "    <tr style=\"text-align: right;\">\n",
              "      <th></th>\n",
              "      <th>ounces</th>\n",
              "    </tr>\n",
              "    <tr>\n",
              "      <th>group</th>\n",
              "      <th></th>\n",
              "    </tr>\n",
              "  </thead>\n",
              "  <tbody>\n",
              "    <tr>\n",
              "      <th>a</th>\n",
              "      <td>6.333333</td>\n",
              "    </tr>\n",
              "    <tr>\n",
              "      <th>b</th>\n",
              "      <td>7.166667</td>\n",
              "    </tr>\n",
              "    <tr>\n",
              "      <th>c</th>\n",
              "      <td>4.666667</td>\n",
              "    </tr>\n",
              "  </tbody>\n",
              "</table>\n",
              "</div>"
            ],
            "text/plain": [
              "         ounces\n",
              "group          \n",
              "a      6.333333\n",
              "b      7.166667\n",
              "c      4.666667"
            ]
          },
          "metadata": {
            "tags": []
          },
          "execution_count": 71
        }
      ]
    },
    {
      "metadata": {
        "id": "-2jbDOwen7DH",
        "colab_type": "code",
        "colab": {
          "autoexec": {
            "startup": false,
            "wait_interval": 0
          },
          "base_uri": "https://localhost:8080/",
          "height": 172
        },
        "outputId": "7eeb1ea8-1d27-4c79-dfca-2cb1abb6269f",
        "executionInfo": {
          "status": "ok",
          "timestamp": 1527911534448,
          "user_tz": 240,
          "elapsed": 343,
          "user": {
            "displayName": "",
            "photoUrl": "",
            "userId": ""
          }
        }
      },
      "cell_type": "code",
      "source": [
        "#calculate count by each group\n",
        "data.pivot_table(values='ounces',index='group',aggfunc='count')\n"
      ],
      "execution_count": 72,
      "outputs": [
        {
          "output_type": "execute_result",
          "data": {
            "text/html": [
              "<div>\n",
              "<style scoped>\n",
              "    .dataframe tbody tr th:only-of-type {\n",
              "        vertical-align: middle;\n",
              "    }\n",
              "\n",
              "    .dataframe tbody tr th {\n",
              "        vertical-align: top;\n",
              "    }\n",
              "\n",
              "    .dataframe thead th {\n",
              "        text-align: right;\n",
              "    }\n",
              "</style>\n",
              "<table border=\"1\" class=\"dataframe\">\n",
              "  <thead>\n",
              "    <tr style=\"text-align: right;\">\n",
              "      <th></th>\n",
              "      <th>ounces</th>\n",
              "    </tr>\n",
              "    <tr>\n",
              "      <th>group</th>\n",
              "      <th></th>\n",
              "    </tr>\n",
              "  </thead>\n",
              "  <tbody>\n",
              "    <tr>\n",
              "      <th>a</th>\n",
              "      <td>3</td>\n",
              "    </tr>\n",
              "    <tr>\n",
              "      <th>b</th>\n",
              "      <td>3</td>\n",
              "    </tr>\n",
              "    <tr>\n",
              "      <th>c</th>\n",
              "      <td>3</td>\n",
              "    </tr>\n",
              "  </tbody>\n",
              "</table>\n",
              "</div>"
            ],
            "text/plain": [
              "       ounces\n",
              "group        \n",
              "a           3\n",
              "b           3\n",
              "c           3"
            ]
          },
          "metadata": {
            "tags": []
          },
          "execution_count": 72
        }
      ]
    }
  ]
}