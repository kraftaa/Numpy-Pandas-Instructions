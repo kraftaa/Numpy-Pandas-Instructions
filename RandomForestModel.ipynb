{
  "nbformat": 4,
  "nbformat_minor": 0,
  "metadata": {
    "colab": {
      "name": "Hello, Colaboratory",
      "version": "0.3.2",
      "provenance": [],
      "collapsed_sections": [],
      "toc_visible": true
    },
    "kernelspec": {
      "display_name": "Python 3",
      "name": "python3"
    }
  },
  "cells": [
    {
      "cell_type": "markdown",
      "metadata": {
        "id": "view-in-github",
        "colab_type": "text"
      },
      "source": [
        "[View in Colaboratory](https://colab.research.google.com/github/kraftaa/Numpy-Pandas-MLDataSet-Instructions/blob/master/RandomForestModel.ipynb)"
      ]
    },
    {
      "metadata": {
        "id": "K5Fnsm2n7y3K",
        "colab_type": "text"
      },
      "cell_type": "markdown",
      "source": [
        "Building a Random Forest Model\n",
        "Let's create a random forest model and check the model's accuracy.\n",
        "\n",
        "https://www.hackerearth.com/practice/machine-learning/machine-learning-algorithms/tutorial-random-forest-parameter-tuning-r/tutorial/"
      ]
    },
    {
      "metadata": {
        "id": "UGZnDTM67-IY",
        "colab_type": "code",
        "colab": {
          "base_uri": "https://localhost:8080/",
          "height": 92
        },
        "outputId": "fd7e51aa-bd50-4b10-b436-03d4a6a4e08f"
      },
      "cell_type": "code",
      "source": [
        "from sklearn.model_selection import train_test_split\n",
        "from sklearn.ensemble import RandomForestClassifier\n",
        "from sklearn.cross_validation import cross_val_score\n",
        "from sklearn.metrics import accuracy_score\n",
        "\n",
        "y = train['target']\n",
        "del train['target']\n",
        "\n",
        "X = train\n",
        "X_train,X_test,y_train,y_test = train_test_split(X,y,test_size=0.3,random_state=1,stratify=y)\n",
        "\n",
        "#train the RF classifier\n",
        "clf = RandomForestClassifier(n_estimators = 500, max_depth = 6)\n",
        "clf.fit(X_train,y_train)\n",
        "\n",
        "RandomForestClassifier(bootstrap=True, class_weight=None, criterion='gini',\n",
        "                max_depth=6, max_features='auto', max_leaf_nodes=None,\n",
        "                min_impurity_split=1e-07, min_samples_leaf=1,\n",
        "                min_samples_split=2, min_weight_fraction_leaf=0.0,\n",
        "                n_estimators=500, n_jobs=1, oob_score=False, random_state=None,\n",
        "                verbose=0, warm_start=False)\n",
        "\n",
        "clf.predict(X_test)"
      ],
      "execution_count": 23,
      "outputs": [
        {
          "output_type": "stream",
          "text": [
            "/usr/local/lib/python3.6/dist-packages/sklearn/cross_validation.py:41: DeprecationWarning: This module was deprecated in version 0.18 in favor of the model_selection module into which all the refactored classes and functions are moved. Also note that the interface of the new CV iterators are different from that of this module. This module will be removed in 0.20.\n",
            "  \"This module will be removed in 0.20.\", DeprecationWarning)\n"
          ],
          "name": "stderr"
        },
        {
          "output_type": "execute_result",
          "data": {
            "text/plain": [
              "array([0, 1, 0, ..., 0, 0, 0])"
            ]
          },
          "metadata": {
            "tags": []
          },
          "execution_count": 23
        }
      ]
    },
    {
      "metadata": {
        "id": "FokgG-dQ8PcX",
        "colab_type": "text"
      },
      "cell_type": "markdown",
      "source": [
        "Now, let's make prediction on the test set and check the model's accuracy.\n",
        "\n"
      ]
    },
    {
      "metadata": {
        "id": "SX5czxiH8RE4",
        "colab_type": "code",
        "colab": {
          "base_uri": "https://localhost:8080/",
          "height": 35
        },
        "outputId": "85625f33-d132-4f2a-f624-eb5048007501"
      },
      "cell_type": "code",
      "source": [
        "import numpy as np\n",
        "#make prediction and check model's accuracy\n",
        "prediction = clf.predict(X_test)\n",
        "acc =  accuracy_score(np.array(y_test),prediction)\n",
        "print ('The accuracy of Random Forest is {}'.format(acc))"
      ],
      "execution_count": 25,
      "outputs": [
        {
          "output_type": "stream",
          "text": [
            "The accuracy of Random Forest is 0.8516736615825571\n"
          ],
          "name": "stdout"
        }
      ]
    },
    {
      "metadata": {
        "id": "MLxOyuH-8asY",
        "colab_type": "text"
      },
      "cell_type": "markdown",
      "source": [
        "Hurrah! Our learning algorithm gave 85% accuracy. Well, we can do tons of things on this data and improve the accuracy. We'll learn about it in future articles. What's next?\n",
        "\n",
        "In this tutorial, we divided the train data into two halves and made prediction on the test data. As your exercise, you should use this model and make prediction on the test data we loaded initially. You can perform same set of steps we did on the train data to complete this exercise. In case you face any difficulty, feel free to share it in Comments below.\n",
        "\n",
        "Summary\n",
        "This tutorial is meant to help python developers or anyone who's starting with python to get a taste of data manipulation and a little bit of machine learning using python. I'm sure, by now you would be convinced that python is actually very powerful in handling and processing data sets. But, what we learned here is just the tip of the iceberg. Don't get complacent with this knowledge."
      ]
    }
  ]
}